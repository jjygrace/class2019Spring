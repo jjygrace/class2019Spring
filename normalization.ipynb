{
 "cells": [
  {
   "cell_type": "markdown",
   "metadata": {},
   "source": [
    "# 3. 26 (Tues) Normalization    2017130772 정준영"
   ]
  },
  {
   "cell_type": "code",
   "execution_count": 1,
   "metadata": {},
   "outputs": [],
   "source": [
    "import nltk"
   ]
  },
  {
   "cell_type": "code",
   "execution_count": 2,
   "metadata": {},
   "outputs": [],
   "source": [
    "raw = \"\"\"DENNIS: Listen, strange women lying in ponds distributing swords\n",
    "... is no basis for a system of government.  Supreme executive power derives from\n",
    "... a mandate from the masses, not from some farcical aquatic ceremony.\"\"\""
   ]
  },
  {
   "cell_type": "code",
   "execution_count": 3,
   "metadata": {},
   "outputs": [
    {
     "name": "stdout",
     "output_type": "stream",
     "text": [
      "['DENNIS', ':', 'Listen', ',', 'strange', 'women', 'lying', 'in', 'ponds', 'distributing', 'swords', 'is', 'no', 'basis', 'for', 'a', 'system', 'of', 'government', '.', 'Supreme', 'executive', 'power', 'derives', 'from', 'a', 'mandate', 'from', 'the', 'masses', ',', 'not', 'from', 'some', 'farcical', 'aquatic', 'ceremony', '.']\n"
     ]
    }
   ],
   "source": [
    "# tokenize\n",
    "tokens = nltk.word_tokenize(raw)\n",
    "print(tokens)"
   ]
  },
  {
   "cell_type": "markdown",
   "metadata": {},
   "source": [
    "#### - stemming : 활용되는 뒷부분을 잘라줌 ex) 복수형, 명사형 등: 정확하지 않게 뽑히는 경우 있음 / tokenize 된 상태에 사용 "
   ]
  },
  {
   "cell_type": "markdown",
   "metadata": {},
   "source": [
    "* ex) nltk.PorterStemmer() : dennis 에서 s 잘림, women은 처리되지 못함"
   ]
  },
  {
   "cell_type": "code",
   "execution_count": 10,
   "metadata": {},
   "outputs": [
    {
     "name": "stdout",
     "output_type": "stream",
     "text": [
      "['denni', ':', 'listen', ',', 'strang', 'women', 'lie', 'in', 'pond', 'distribut', 'sword', 'is', 'no', 'basi', 'for', 'a', 'system', 'of', 'govern', '.', 'suprem', 'execut', 'power', 'deriv', 'from', 'a', 'mandat', 'from', 'the', 'mass', ',', 'not', 'from', 'some', 'farcic', 'aquat', 'ceremoni', '.']\n"
     ]
    }
   ],
   "source": [
    "porter = nltk.PorterStemmer()\n",
    "print([porter.stem(t) for t in tokens])"
   ]
  },
  {
   "cell_type": "markdown",
   "metadata": {},
   "source": [
    "* ex) nltk.LancasterStemmer() : dennis 에서 nis 잘림, women 도 en 잘림"
   ]
  },
  {
   "cell_type": "code",
   "execution_count": 11,
   "metadata": {},
   "outputs": [
    {
     "name": "stdout",
     "output_type": "stream",
     "text": [
      "['den', ':', 'list', ',', 'strange', 'wom', 'lying', 'in', 'pond', 'distribut', 'sword', 'is', 'no', 'bas', 'for', 'a', 'system', 'of', 'govern', '.', 'suprem', 'execut', 'pow', 'der', 'from', 'a', 'mand', 'from', 'the', 'mass', ',', 'not', 'from', 'som', 'farc', 'aqu', 'ceremony', '.']\n"
     ]
    }
   ],
   "source": [
    "lancaster = nltk.LancasterStemmer()\n",
    "print([lancaster.stem(t) for t in tokens])"
   ]
  },
  {
   "cell_type": "markdown",
   "metadata": {},
   "source": [
    "#### - lemmatize  : 원형을 뽑아오는 함수 / tokenize 된 상태에 사용"
   ]
  },
  {
   "cell_type": "code",
   "execution_count": 8,
   "metadata": {},
   "outputs": [
    {
     "name": "stdout",
     "output_type": "stream",
     "text": [
      "['DENNIS', ':', 'Listen', ',', 'strange', 'woman', 'lying', 'in', 'pond', 'distributing', 'sword', 'is', 'no', 'basis', 'for', 'a', 'system', 'of', 'government', '.', 'Supreme', 'executive', 'power', 'derives', 'from', 'a', 'mandate', 'from', 'the', 'mass', ',', 'not', 'from', 'some', 'farcical', 'aquatic', 'ceremony', '.']\n"
     ]
    }
   ],
   "source": [
    "wnl = nltk.WordNetLemmatizer()\n",
    "print([wnl.lemmatize(t) for t in tokens])"
   ]
  },
  {
   "cell_type": "markdown",
   "metadata": {},
   "source": [
    "-------------------------------------------------------------------------------------------------------------"
   ]
  },
  {
   "cell_type": "markdown",
   "metadata": {},
   "source": [
    "## Practice"
   ]
  },
  {
   "cell_type": "code",
   "execution_count": 4,
   "metadata": {},
   "outputs": [],
   "source": [
    "a = \"\"\"Gender doesn't just exist, but is continually produced, reproduced, and indeed changed through people's performance of gendered acts, \n",
    "as they project their own claimed gender identities, ratify or challenge other's identities, and in various ways support or challenge systems\n",
    "of gender relations and privilege.\"\"\""
   ]
  },
  {
   "cell_type": "code",
   "execution_count": 6,
   "metadata": {},
   "outputs": [
    {
     "name": "stdout",
     "output_type": "stream",
     "text": [
      "['Gender', 'does', \"n't\", 'just', 'exist', ',', 'but', 'is', 'continually', 'produced', ',', 'reproduced', ',', 'and', 'indeed', 'changed', 'through', 'people', \"'s\", 'performance', 'of', 'gendered', 'acts', ',', 'as', 'they', 'project', 'their', 'own', 'claimed', 'gender', 'identities', ',', 'ratify', 'or', 'challenge', 'other', \"'s\", 'identities', ',', 'and', 'in', 'various', 'ways', 'support', 'or', 'challenge', 'systems', 'of', 'gender', 'relations', 'and', 'privilege', '.']\n"
     ]
    }
   ],
   "source": [
    "tokens_a = nltk.word_tokenize(a)\n",
    "print(tokens_a)"
   ]
  },
  {
   "cell_type": "code",
   "execution_count": 9,
   "metadata": {},
   "outputs": [
    {
     "name": "stdout",
     "output_type": "stream",
     "text": [
      "['gender', 'doe', \"n't\", 'just', 'exist', ',', 'but', 'is', 'continu', 'produc', ',', 'reproduc', ',', 'and', 'inde', 'chang', 'through', 'peopl', \"'s\", 'perform', 'of', 'gender', 'act', ',', 'as', 'they', 'project', 'their', 'own', 'claim', 'gender', 'ident', ',', 'ratifi', 'or', 'challeng', 'other', \"'s\", 'ident', ',', 'and', 'in', 'variou', 'way', 'support', 'or', 'challeng', 'system', 'of', 'gender', 'relat', 'and', 'privileg', '.']\n"
     ]
    }
   ],
   "source": [
    "porter_a = nltk.PorterStemmer()\n",
    "print([porter_a.stem(t) for t in tokens_a])"
   ]
  },
  {
   "cell_type": "code",
   "execution_count": 10,
   "metadata": {},
   "outputs": [
    {
     "name": "stdout",
     "output_type": "stream",
     "text": [
      "['gend', 'doe', \"n't\", 'just', 'ex', ',', 'but', 'is', 'contin', 'produc', ',', 'reproduc', ',', 'and', 'indee', 'chang', 'through', 'peopl', \"'s\", 'perform', 'of', 'gend', 'act', ',', 'as', 'they', 'project', 'their', 'own', 'claim', 'gend', 'id', ',', 'rat', 'or', 'challeng', 'oth', \"'s\", 'id', ',', 'and', 'in', 'vary', 'way', 'support', 'or', 'challeng', 'system', 'of', 'gend', 'rel', 'and', 'privileg', '.']\n"
     ]
    }
   ],
   "source": [
    "lancaster_a = nltk.LancasterStemmer()\n",
    "print([lancaster_a.stem(t) for t in tokens_a])"
   ]
  },
  {
   "cell_type": "code",
   "execution_count": 11,
   "metadata": {},
   "outputs": [
    {
     "name": "stdout",
     "output_type": "stream",
     "text": [
      "['Gender', 'doe', \"n't\", 'just', 'exist', ',', 'but', 'is', 'continually', 'produced', ',', 'reproduced', ',', 'and', 'indeed', 'changed', 'through', 'people', \"'s\", 'performance', 'of', 'gendered', 'act', ',', 'a', 'they', 'project', 'their', 'own', 'claimed', 'gender', 'identity', ',', 'ratify', 'or', 'challenge', 'other', \"'s\", 'identity', ',', 'and', 'in', 'various', 'way', 'support', 'or', 'challenge', 'system', 'of', 'gender', 'relation', 'and', 'privilege', '.']\n"
     ]
    }
   ],
   "source": [
    "wnl_a = nltk.WordNetLemmatizer()\n",
    "print([wnl_a.lemmatize(t) for t in tokens_a])"
   ]
  },
  {
   "cell_type": "code",
   "execution_count": null,
   "metadata": {},
   "outputs": [],
   "source": []
  }
 ],
 "metadata": {
  "kernelspec": {
   "display_name": "Python 3",
   "language": "python",
   "name": "python3"
  },
  "language_info": {
   "codemirror_mode": {
    "name": "ipython",
    "version": 3
   },
   "file_extension": ".py",
   "mimetype": "text/x-python",
   "name": "python",
   "nbconvert_exporter": "python",
   "pygments_lexer": "ipython3",
   "version": "3.7.1"
  }
 },
 "nbformat": 4,
 "nbformat_minor": 2
}
