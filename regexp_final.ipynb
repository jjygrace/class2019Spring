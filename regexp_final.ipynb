{
 "cells": [
  {
   "cell_type": "markdown",
   "metadata": {},
   "source": [
    "# 3. 26 (Tues)  Regular Expression   2017130772 정준영"
   ]
  },
  {
   "cell_type": "code",
   "execution_count": 1,
   "metadata": {},
   "outputs": [],
   "source": [
    "import nltk\n",
    "import re"
   ]
  },
  {
   "cell_type": "markdown",
   "metadata": {},
   "source": [
    "* string에 적용되는 문법이 regular expression / list에는 적용이 안됨"
   ]
  },
  {
   "cell_type": "code",
   "execution_count": 3,
   "metadata": {},
   "outputs": [],
   "source": [
    "a = '''\n",
    "Basic Regular Expression Meta-Characters, Including Wildcards, Ranges and Closures\n",
    ".\t        Wildcard, matches any character    모든 것이 해당가능\n",
    "^abc\t    Matches some pattern abc at the start of a string   시작 마크\n",
    "abc$\t    Matches some pattern abc at the end of a string     end 마크 \n",
    "[abc]\t    Matches one of a set of characters                브라켓 내부 중 하나 일치 \n",
    "[^abc]      Matches anything but a set of characters          브라켓 내부 제외하고 일치  \n",
    "[A-Z0-9]\tMatches one of a range of characters    숫자가 아닌 모든 character : A-Z / 모든 숫자 : 0-9\n",
    "ed|ing|s\tMatches one of the specified strings (disjunction)      bar mark : or 의미 \n",
    "*\t        Zero or more of previous item, e.g. a*, [a-z]* (also known as Kleene Closure)\n",
    "+\t        One or more of previous item, e.g. a+, [a-z]+    하나이상 반복해서 나올 수 있다\n",
    "?\t        Zero or one of the previous item (i.e. optional), e.g. a?, [a-z]?  0또는 하나 나올 수 있다 \n",
    "{n}\t        Exactly n repeats where n is a non-negative integer    n번 반복\n",
    "{n,}\t    At least n repeats   n번 이상 반복 \n",
    "{,n}\t    No more than n repeats  n번 이하 반복 \n",
    "{m,n}\t    At least m and no more than n repeats  m~n번 반복 \n",
    "a(b|c)+\t    Parentheses that indicate the scope of the operators     b or c 가 한번 이상 나와라(괄호에 대해서 더하기 표시 적용)\n",
    "(...)       Matches whatever regular expression is inside the parentheses   괄호안에 있는 내용과 맞아떨어지면 매치해라.\n",
    "'''\n",
    "\n",
    "# range 전부를 comment로 처리하고 싶을 때 : ''' 사용"
   ]
  },
  {
   "cell_type": "code",
   "execution_count": 4,
   "metadata": {
    "scrolled": true
   },
   "outputs": [
    {
     "name": "stdout",
     "output_type": "stream",
     "text": [
      "<class 'list'>\n"
     ]
    }
   ],
   "source": [
    "dic = nltk.corpus.words.words('en')\n",
    "print(type(dic))"
   ]
  },
  {
   "cell_type": "markdown",
   "metadata": {},
   "source": [
    "* list comprehension : in 부터 읽어나감, in 뒤에 있는 것의 항목 수만큼 for loop가 도는데, variable w를 타고 돌아가며 소문자인지 판별해서 list로 받음"
   ]
  },
  {
   "cell_type": "markdown",
   "metadata": {},
   "source": [
    "* 현재 variable의 type을 항상 trace하고 있어야 함."
   ]
  },
  {
   "cell_type": "code",
   "execution_count": 5,
   "metadata": {
    "scrolled": true
   },
   "outputs": [
    {
     "name": "stdout",
     "output_type": "stream",
     "text": [
      "['a', 'aa', 'aal', 'aalii', 'aam', 'aardvark', 'aardwolf', 'aba', 'abac', 'abaca']\n"
     ]
    }
   ],
   "source": [
    "wordlist = [w for w in nltk.corpus.words.words('en') if w.islower()] #아래의 코딩을 한 문장으로 줄인 것 / 'en'은 영어를 의미 / type = list\n",
    "print(wordlist[:10])"
   ]
  },
  {
   "cell_type": "code",
   "execution_count": 6,
   "metadata": {},
   "outputs": [],
   "source": [
    "a = []\n",
    "for w in nltk.corpus.words.words('en'):\n",
    "    if w.islower():\n",
    "        a.append(w)"
   ]
  },
  {
   "cell_type": "markdown",
   "metadata": {},
   "source": [
    "* re.search(찾는 대상, 찾을 범위) : 입력요소 2개 필요 / 아래의 경우, abcde에서 abc를 찾아라"
   ]
  },
  {
   "cell_type": "code",
   "execution_count": 7,
   "metadata": {},
   "outputs": [
    {
     "data": {
      "text/plain": [
       "<re.Match object; span=(0, 3), match='abc'>"
      ]
     },
     "execution_count": 7,
     "metadata": {},
     "output_type": "execute_result"
    }
   ],
   "source": [
    "re.search('abc','abcde')"
   ]
  },
  {
   "cell_type": "code",
   "execution_count": 8,
   "metadata": {},
   "outputs": [],
   "source": [
    "re.search('ed$','abcde')"
   ]
  },
  {
   "cell_type": "markdown",
   "metadata": {},
   "source": [
    "* for loop를 돌 때 하나 하나가 string이어야 search 사용가능(wordlist통째로는 list인 상황) "
   ]
  },
  {
   "cell_type": "markdown",
   "metadata": {},
   "source": [
    "* list comprehension 뒤의 범위 설정은 어느정도 redundant(just to prevent too long outcome)"
   ]
  },
  {
   "cell_type": "code",
   "execution_count": 9,
   "metadata": {
    "scrolled": true
   },
   "outputs": [
    {
     "name": "stdout",
     "output_type": "stream",
     "text": [
      "['abaissed', 'abandoned', 'abased', 'abashed', 'abatised', 'abed', 'aborted', 'abridged', 'abscessed', 'absconded']\n"
     ]
    }
   ],
   "source": [
    "result = [w for w in wordlist if re.search('ed$', w)][:10]   #wordlist에서 for loop 돌아가는 동안,ed로 끝나는 것을 w에서 찾아서 w에 받아라\n",
    "print(result[:10])"
   ]
  },
  {
   "cell_type": "code",
   "execution_count": 10,
   "metadata": {},
   "outputs": [
    {
     "name": "stdout",
     "output_type": "stream",
     "text": [
      "['abjectly', 'adjuster', 'dejected', 'dejectly', 'injector', 'majestic', 'objectee', 'objector', 'rejecter', 'rejector']\n"
     ]
    }
   ],
   "source": [
    "result = [w for w in wordlist if re.search('^..j..t..$', w)]   # 처음부터 3번째에 j가 오고 6번째에 t가 오는 8글자짜리를 찾아라.\n",
    "print(result[:10])"
   ]
  },
  {
   "cell_type": "code",
   "execution_count": 11,
   "metadata": {},
   "outputs": [
    {
     "name": "stdout",
     "output_type": "stream",
     "text": [
      "['gold', 'golf', 'hold', 'hole']\n"
     ]
    }
   ],
   "source": [
    "result = [w for w in wordlist if re.search('^[ghi][mno][jlk][def]$', w)]  #브라켓 안에있는 문자 중 아무거나 하나씩 해당하는 4글자짜리 단어\n",
    "print(result[:10])"
   ]
  },
  {
   "cell_type": "code",
   "execution_count": 12,
   "metadata": {
    "scrolled": true
   },
   "outputs": [
    {
     "name": "stdout",
     "output_type": "stream",
     "text": [
      "['a', 'aa', 'ah', 'aha', 'h', 'ha', 'hah']\n"
     ]
    }
   ],
   "source": [
    "result = [w for w in wordlist if re.search('^[ah]+$', w)][:10]  # 브라켓 안에 있는 문자 중 하나라도 있는 경우 / + : 1회 이상 매치 되게\n",
    "print(result[:10])"
   ]
  },
  {
   "cell_type": "markdown",
   "metadata": {},
   "source": [
    "--------------------------------------------------------------------------------------"
   ]
  },
  {
   "cell_type": "code",
   "execution_count": 26,
   "metadata": {},
   "outputs": [],
   "source": [
    "wsj = sorted(set(nltk.corpus.treebank.words()))   # type = list - regexp 적용하려면 for loop돌려서 string하나하나에 대해 적용시켜야 함\n",
    "#wall street journal에 나오는 words 있는 corpus"
   ]
  },
  {
   "cell_type": "markdown",
   "metadata": {},
   "source": [
    "* 있는 그대로의 특수기호를 나타내고 싶을 때 : 원화기호와 특수기호 함께 적기  ex) dot(.) 표기 = \\(원화기호)."
   ]
  },
  {
   "cell_type": "code",
   "execution_count": 14,
   "metadata": {},
   "outputs": [
    {
     "name": "stdout",
     "output_type": "stream",
     "text": [
      "['0.0085', '0.05', '0.1', '0.16', '0.2', '0.25', '0.28', '0.3', '0.4', '0.5']\n"
     ]
    }
   ],
   "source": [
    "wordlist = [w for w in wsj if re.search('^[0-9]+\\.[0-9]+$', w)]   # 0-9 중 하나 매치하고, dot들어가고, 0-9 중 하나 이상 매치하는 것 찾기\n",
    "print(wordlist[:10])"
   ]
  },
  {
   "cell_type": "code",
   "execution_count": 15,
   "metadata": {},
   "outputs": [
    {
     "name": "stdout",
     "output_type": "stream",
     "text": [
      "['C$', 'US$']\n"
     ]
    }
   ],
   "source": [
    "wordlist = [w for w in wsj if re.search('^[A-Z]+\\$$', w)] # 알파벳대문자 중 하나이상으로 시작하는 것 매치하고, 달러기호로 끝나는 것 찾기 \n",
    "print(wordlist[:10])"
   ]
  },
  {
   "cell_type": "code",
   "execution_count": 16,
   "metadata": {},
   "outputs": [
    {
     "name": "stdout",
     "output_type": "stream",
     "text": [
      "['1614', '1637', '1787', '1901', '1903', '1917', '1925', '1929', '1933', '1934']\n"
     ]
    }
   ],
   "source": [
    "wordlist = [w for w in wsj if re.search('^[0-9]{4}$', w)] # 4자리 숫자\n",
    "print(wordlist[:10])"
   ]
  },
  {
   "cell_type": "markdown",
   "metadata": {},
   "source": [
    "* { } 은 몇 번 등장하는지에 대한 정보 "
   ]
  },
  {
   "cell_type": "code",
   "execution_count": 17,
   "metadata": {
    "scrolled": true
   },
   "outputs": [
    {
     "name": "stdout",
     "output_type": "stream",
     "text": [
      "['10-day', '10-lap', '10-year', '100-share', '12-point', '12-year', '14-hour', '15-day', '150-point', '190-point']\n"
     ]
    }
   ],
   "source": [
    "wordlist = [w for w in wsj if re.search('^[0-9]+-[a-z]{3,5}$', w)]  # 그냥 dash mark - 가 중간에 나오도록\n",
    "print(wordlist[:10])"
   ]
  },
  {
   "cell_type": "code",
   "execution_count": 18,
   "metadata": {},
   "outputs": [
    {
     "name": "stdout",
     "output_type": "stream",
     "text": [
      "['black-and-white', 'bread-and-butter', 'father-in-law', 'machine-gun-toting', 'savings-and-loan']\n"
     ]
    }
   ],
   "source": [
    "wordlist = [w for w in wsj if re.search('^[a-z]{5,}-[a-z]{2,3}-[a-z]{,6}$', w)] \n",
    "print(wordlist[:10])      # 소문자로 시작하는데, 5개 이상 알파벳 - 알파벳2~3개 - 알파벳이 6개 이하"
   ]
  },
  {
   "cell_type": "code",
   "execution_count": 19,
   "metadata": {},
   "outputs": [
    {
     "name": "stdout",
     "output_type": "stream",
     "text": [
      "['62%-owned', 'Absorbed', 'According', 'Adopting', 'Advanced', 'Advancing', 'Alfred', 'Allied', 'Annualized', 'Anything']\n"
     ]
    }
   ],
   "source": [
    "wordlist = [w for w in wsj if re.search('(ed|ing)$', w)]#소괄호는 묶음의 의미/bar mark = or의 의미/ed로 끝나거나 ing로 끝나는 경우 찾아라\n",
    "print(wordlist[:10])"
   ]
  },
  {
   "cell_type": "code",
   "execution_count": 26,
   "metadata": {},
   "outputs": [
    {
     "name": "stdout",
     "output_type": "stream",
     "text": [
      "['a', 'aa', 'aal', 'aalii', 'aam', 'aardvark', 'aardwolf', 'aba', 'abac', 'abaca']\n",
      "['abaissed', 'abandoned', 'abased', 'abashed', 'abatised', 'abed', 'aborted', 'abridged', 'abscessed', 'absconded']\n",
      "['abject', 'abjure', 'adject', 'adjoin', 'adjure', 'adjust', 'aljoba', 'bajada', 'bajree', 'bajury']\n",
      "['gold', 'golf', 'hold', 'hole']\n",
      "['a', 'aa', 'ah', 'aha', 'h', 'ha', 'hah']\n",
      "['0.0085', '0.05', '0.1', '0.16', '0.2', '0.25', '0.28', '0.3', '0.4', '0.5']\n",
      "['C$', 'US$']\n",
      "['1614', '1637', '1787', '1901', '1903', '1917', '1925', '1929', '1933', '1934']\n",
      "['10-day', '10-lap', '10-year', '100-share', '12-point', '12-year', '14-hour', '15-day', '150-point', '190-point']\n",
      "['black-and-white', 'bread-and-butter', 'father-in-law', 'machine-gun-toting', 'savings-and-loan']\n",
      "['62%-owned', 'Absorbed', 'According', 'Adopting', 'Advanced', 'Advancing', 'Alfred', 'Allied', 'Annualized', 'Anything']\n"
     ]
    }
   ],
   "source": [
    "#위의 코드와 같음\n",
    "wordlist = [w for w in nltk.corpus.words.words('en') if w.islower()]\n",
    "print(wordlist[:10])\n",
    "result = [w for w in wordlist if re.search('ed$', w)]  #ed로 끝나는 것을 찾으라 (달러 표시=끝을 의미)(눈웃음 표시=처음을 의미)\n",
    "print(result[:10])\n",
    "result = [w for w in wordlist if re.search('^..j...$', w)][:10]   # 아무 character 상관 없는 부분 = . 으로 표현 \n",
    "print(result[:10])\n",
    "result = [w for w in wordlist if re.search('^[ghi][mno][jlk][def]$', w)][:10]\n",
    "print(result[:10])\n",
    "result = [w for w in wordlist if re.search('^[ah]+$', w)][:10]  # 브라켓 안에 있는 문자 중 하나라도 있는 경우 / + : 1회 이상 매치 되게\n",
    "print(result[:10])\n",
    "\n",
    "wsj = sorted(set(nltk.corpus.treebank.words()))  # wall street journal data \n",
    "wordlist = [w for w in wsj if re.search('^[0-9]+\\.[0-9]+$', w)]   #점을 나타내고 싶으면 원화기호에 . 붙이기\n",
    "print(wordlist[:10])\n",
    "wordlist = [w for w in wsj if re.search('^[A-Z]+\\$$', w)]\n",
    "print(wordlist[:10])\n",
    "wordlist = [w for w in wsj if re.search('^[0-9]{4}$', w)]\n",
    "print(wordlist[:10])\n",
    "wordlist = [w for w in wsj if re.search('^[0-9]+-[a-z]{3,5}$', w)]\n",
    "print(wordlist[:10])\n",
    "wordlist = [w for w in wsj if re.search('^[a-z]{5,}-[a-z]{2,3}-[a-z]{,6}$', w)]\n",
    "print(wordlist[:10])\n",
    "wordlist = [w for w in wsj if re.search('(ed|ing)$', w)]\n",
    "print(wordlist[:10])"
   ]
  },
  {
   "cell_type": "markdown",
   "metadata": {},
   "source": [
    "* re.findall() 함수 : re.findall(찾을 대상, 찾을 위치) : findall도 입력은 string, find된 결과를 가져옴(여러개 있으면 전부 다) "
   ]
  },
  {
   "cell_type": "code",
   "execution_count": 21,
   "metadata": {},
   "outputs": [
    {
     "data": {
      "text/plain": [
       "['ab', 'ab', 'ab', 'ab']"
      ]
     },
     "execution_count": 21,
     "metadata": {},
     "output_type": "execute_result"
    }
   ],
   "source": [
    "re.findall('ab','ababdddabkabddd')"
   ]
  },
  {
   "cell_type": "code",
   "execution_count": 22,
   "metadata": {
    "scrolled": true
   },
   "outputs": [
    {
     "name": "stdout",
     "output_type": "stream",
     "text": [
      "['u', 'e', 'a', 'i', 'a', 'i', 'i', 'i', 'e', 'i', 'a', 'i', 'o', 'i', 'o', 'u']\n",
      "['rc', 'fr', 'st', 'xp', 'ci']\n",
      "['supercalifragilisticexpialidocious']\n",
      "['sup', 'rcal', 'frag', 'lis', 'tic', 'xpial', 'doc']\n"
     ]
    }
   ],
   "source": [
    "word = 'supercalifragilisticexpialidocious'\n",
    "result = re.findall('[aeiou]', word)  # 모음 character 찾아라 \n",
    "print(result)\n",
    "result = re.findall('[aeiou](..)[aeiou]', word)  # 단어 처음이든 중간이든, 모음 2개사이의 ..을 찾아라\n",
    "print(result)\n",
    "result = re.findall('[^aeiou].+[^aeiou]', word) # greedy search: 모음이 아닌 것&character 1개 이상과 모음이 아닌 것의 구조를 가진 단어\n",
    "print(result)                    # 가능하면 크게 범위를 잡아 찾아라.(내부적으로 포함되는 것 제외), 플러스 기호는 점과 앞의 브라켓에도 적용\n",
    "result = re.findall('[^aeiou].+?[^aeiou]', word)  # reluctant search : 물음표 = optional의미 : 가능한 작은 범위로 찾아라\n",
    "print(result)"
   ]
  },
  {
   "cell_type": "markdown",
   "metadata": {},
   "source": [
    "* for이 두번 사용됨 : vs / for word in wsj / for vs in re.findall(r'[aeiou]{2,}', word) : 원하는 조건을 만족시키는 것들을 찾아서 재 list화"
   ]
  },
  {
   "cell_type": "code",
   "execution_count": 24,
   "metadata": {},
   "outputs": [],
   "source": [
    "wsj = sorted(set(nltk.corpus.treebank.words()))  # set : 집합처럼 만들어서 sorting(중복없이 사전화)\n",
    "#print(wsj)"
   ]
  },
  {
   "cell_type": "code",
   "execution_count": 23,
   "metadata": {},
   "outputs": [
    {
     "data": {
      "text/plain": [
       "['ea',\n",
       " 'oi',\n",
       " 'ea',\n",
       " 'ou',\n",
       " 'oi',\n",
       " 'ea',\n",
       " 'ea',\n",
       " 'oi',\n",
       " 'oi',\n",
       " 'ea',\n",
       " 'io',\n",
       " 'ea',\n",
       " 'ea',\n",
       " 'ea',\n",
       " 'oi',\n",
       " 'ea',\n",
       " 'ea',\n",
       " 'ea',\n",
       " 'ea',\n",
       " 'ea',\n",
       " 'ea',\n",
       " 'ea',\n",
       " 'ee',\n",
       " 'ea',\n",
       " 'ea',\n",
       " 'ea',\n",
       " 'ea',\n",
       " 'ea',\n",
       " 'ea',\n",
       " 'ea',\n",
       " 'ea',\n",
       " 'oi',\n",
       " 'ea',\n",
       " 'ea',\n",
       " 'ou',\n",
       " 'ou',\n",
       " 'ou',\n",
       " 'ie',\n",
       " 'ui',\n",
       " 'io',\n",
       " 'ua',\n",
       " 'io',\n",
       " 'ai',\n",
       " 'ai',\n",
       " 'ai',\n",
       " 'io',\n",
       " 'ie',\n",
       " 'ue',\n",
       " 'ue',\n",
       " 'ia',\n",
       " 'ie',\n",
       " 'ea',\n",
       " 'ai',\n",
       " 'ou',\n",
       " 'ia',\n",
       " 'ei',\n",
       " 'ie',\n",
       " 'ea',\n",
       " 'ea',\n",
       " 'ie',\n",
       " 'ia',\n",
       " 'ia',\n",
       " 'ua',\n",
       " 'ie',\n",
       " 'io',\n",
       " 'ea',\n",
       " 'ia',\n",
       " 'io',\n",
       " 'ui',\n",
       " 'ia',\n",
       " 'ia',\n",
       " 'ea',\n",
       " 'iai',\n",
       " 'ai',\n",
       " 'ia',\n",
       " 'ia',\n",
       " 'ia',\n",
       " 'ia',\n",
       " 'ia',\n",
       " 'io',\n",
       " 'oo',\n",
       " 'io',\n",
       " 'ia',\n",
       " 'ia',\n",
       " 'ia',\n",
       " 'ia',\n",
       " 'ue',\n",
       " 'ea',\n",
       " 'ai',\n",
       " 'ai',\n",
       " 'ue',\n",
       " 'ie',\n",
       " 'au',\n",
       " 'ea',\n",
       " 'ea',\n",
       " 'ea',\n",
       " 'ea',\n",
       " 'eau',\n",
       " 'au',\n",
       " 'ei',\n",
       " 'ei',\n",
       " 'ei',\n",
       " 'ei',\n",
       " 'ei',\n",
       " 'ia',\n",
       " 'ie',\n",
       " 'io',\n",
       " 'ue',\n",
       " 'oa',\n",
       " 'oei',\n",
       " 'oe',\n",
       " 'ia',\n",
       " 'oo',\n",
       " 'oo',\n",
       " 'oo',\n",
       " 'eau',\n",
       " 'ou',\n",
       " 'ou',\n",
       " 'ai',\n",
       " 'ou',\n",
       " 'ai',\n",
       " 'oo',\n",
       " 'ea',\n",
       " 'au',\n",
       " 'ia',\n",
       " 'ea',\n",
       " 'ea',\n",
       " 'ee',\n",
       " 'ia',\n",
       " 'ai',\n",
       " 'oa',\n",
       " 'oo',\n",
       " 'oo',\n",
       " 'oo',\n",
       " 'ei',\n",
       " 'ei',\n",
       " 'ea',\n",
       " 'ui',\n",
       " 'ui',\n",
       " 'eau',\n",
       " 'ie',\n",
       " 'ia',\n",
       " 'ia',\n",
       " 'ai',\n",
       " 'eau',\n",
       " 'ia',\n",
       " 'ea',\n",
       " 'ie',\n",
       " 'ie',\n",
       " 'oo',\n",
       " 'ai',\n",
       " 'ai',\n",
       " 'io',\n",
       " 'ie',\n",
       " 'ie',\n",
       " 'eau',\n",
       " 'ee',\n",
       " 'ee',\n",
       " 'ea',\n",
       " 'io',\n",
       " 'oo',\n",
       " 'ia',\n",
       " 'ie',\n",
       " 'ui',\n",
       " 'io',\n",
       " 'io',\n",
       " 'io',\n",
       " 'ai',\n",
       " 'ai',\n",
       " 'au',\n",
       " 'oa',\n",
       " 'oi',\n",
       " 'ia',\n",
       " 'io',\n",
       " 'io',\n",
       " 'ee',\n",
       " 'ie',\n",
       " 'ea',\n",
       " 'io',\n",
       " 'io',\n",
       " 'ie',\n",
       " 'ou',\n",
       " 'io',\n",
       " 'io',\n",
       " 'ue',\n",
       " 'io',\n",
       " 'io',\n",
       " 'ai',\n",
       " 'ue',\n",
       " 'ui',\n",
       " 'io',\n",
       " 'oo',\n",
       " 'oo',\n",
       " 'io',\n",
       " 'ou',\n",
       " 'ou',\n",
       " 'ou',\n",
       " 'ou',\n",
       " 'ie',\n",
       " 'ou',\n",
       " 'ou',\n",
       " 'ou',\n",
       " 'ou',\n",
       " 'ou',\n",
       " 'ee',\n",
       " 'ui',\n",
       " 'ee',\n",
       " 'ia',\n",
       " 'ai',\n",
       " 'ai',\n",
       " 'ai',\n",
       " 'ie',\n",
       " 'ie',\n",
       " 'oi',\n",
       " 'ie',\n",
       " 'io',\n",
       " 'ea',\n",
       " 'ea',\n",
       " 'ea',\n",
       " 'ee',\n",
       " 'au',\n",
       " 'io',\n",
       " 'ai',\n",
       " 'io',\n",
       " 'oi',\n",
       " 'ia',\n",
       " 'ia',\n",
       " 'eo',\n",
       " 'ie',\n",
       " 'ea',\n",
       " 'io',\n",
       " 'oa',\n",
       " 'oe',\n",
       " 'ai',\n",
       " 'io',\n",
       " 'ie',\n",
       " 'ue',\n",
       " 'ou',\n",
       " 'oi',\n",
       " 'ue',\n",
       " 'ee',\n",
       " 'ie',\n",
       " 'ia',\n",
       " 'ie',\n",
       " 'io',\n",
       " 'io',\n",
       " 'ia',\n",
       " 'io',\n",
       " 'ie',\n",
       " 'ou',\n",
       " 'ou',\n",
       " 'ee',\n",
       " 'ea',\n",
       " 'ai',\n",
       " 'ua',\n",
       " 'ui',\n",
       " 'ui',\n",
       " 'ui',\n",
       " 'uu',\n",
       " 'ea',\n",
       " 'ea',\n",
       " 'io',\n",
       " 'ui',\n",
       " 'ie',\n",
       " 'ia',\n",
       " 'ie',\n",
       " 'ie',\n",
       " 'ei',\n",
       " 'ai',\n",
       " 'ai',\n",
       " 'ai',\n",
       " 'ai',\n",
       " 'ai',\n",
       " 'ie',\n",
       " 'au',\n",
       " 'ea',\n",
       " 'ua',\n",
       " 'io',\n",
       " 'ee',\n",
       " 'ee',\n",
       " 'ie',\n",
       " 'ee',\n",
       " 'ia',\n",
       " 'ia',\n",
       " 'io',\n",
       " 'oo',\n",
       " 'oo',\n",
       " 'oo',\n",
       " 'ei',\n",
       " 'ei',\n",
       " 'ou',\n",
       " 'io',\n",
       " 'ou',\n",
       " 'ou',\n",
       " 'ai',\n",
       " 'ou',\n",
       " 'ou',\n",
       " 'ee',\n",
       " 'ou',\n",
       " 'ie',\n",
       " 'ee',\n",
       " 'ee',\n",
       " 'eu',\n",
       " 'eu',\n",
       " 'ie',\n",
       " 'ie',\n",
       " 'ue',\n",
       " 'ai',\n",
       " 'ie',\n",
       " 'eo',\n",
       " 'eo',\n",
       " 'eo',\n",
       " 'ia',\n",
       " 'eo',\n",
       " 'ia',\n",
       " 'ia',\n",
       " 'ia',\n",
       " 'ie',\n",
       " 'ie',\n",
       " 'au',\n",
       " 'iu',\n",
       " 'ia',\n",
       " 'au',\n",
       " 'oo',\n",
       " 'oo',\n",
       " 'ie',\n",
       " 'ua',\n",
       " 'ua',\n",
       " 'ai',\n",
       " 'ea',\n",
       " 'ee',\n",
       " 'ee',\n",
       " 'ee',\n",
       " 'ee',\n",
       " 'ee',\n",
       " 'ou',\n",
       " 'ou',\n",
       " 'ou',\n",
       " 'ua',\n",
       " 'ee',\n",
       " 'ua',\n",
       " 'ee',\n",
       " 'ua',\n",
       " 'ue',\n",
       " 'ui',\n",
       " 'ui',\n",
       " 'ui',\n",
       " 'ea',\n",
       " 'oo',\n",
       " 'ou',\n",
       " 'ou',\n",
       " 'au',\n",
       " 'io',\n",
       " 'aii',\n",
       " 'aiia',\n",
       " 'ea',\n",
       " 'ea',\n",
       " 'ea',\n",
       " 'ea',\n",
       " 'ea',\n",
       " 'ei',\n",
       " 'ei',\n",
       " 'ei',\n",
       " 'ei',\n",
       " 'oo',\n",
       " 'ie',\n",
       " 'oo',\n",
       " 'ou',\n",
       " 'ou',\n",
       " 'ou',\n",
       " 'ou',\n",
       " 'ou',\n",
       " 'ou',\n",
       " 'ea',\n",
       " 'oi',\n",
       " 'ee',\n",
       " 'ia',\n",
       " 'ia',\n",
       " 'ia',\n",
       " 'ua',\n",
       " 'ua',\n",
       " 'ia',\n",
       " 'ia',\n",
       " 'ie',\n",
       " 'io',\n",
       " 'ia',\n",
       " 'ou',\n",
       " 'ea',\n",
       " 'io',\n",
       " 'io',\n",
       " 'eu',\n",
       " 'ia',\n",
       " 'io',\n",
       " 'ie',\n",
       " 'ia',\n",
       " 'ie',\n",
       " 'ae',\n",
       " 'ue',\n",
       " 'ia',\n",
       " 'ua',\n",
       " 'ai',\n",
       " 'aa',\n",
       " 'aa',\n",
       " 'ai',\n",
       " 'ua',\n",
       " 'oa',\n",
       " 'oe',\n",
       " 'oe',\n",
       " 'ou',\n",
       " 'ou',\n",
       " 'ia',\n",
       " 'ia',\n",
       " 'ie',\n",
       " 'ia',\n",
       " 'oo',\n",
       " 'ee',\n",
       " 'ei',\n",
       " 'ea',\n",
       " 'ea',\n",
       " 'ee',\n",
       " 'ei',\n",
       " 'ei',\n",
       " 'ee',\n",
       " 'au',\n",
       " 'ei',\n",
       " 'oi',\n",
       " 'oi',\n",
       " 'ea',\n",
       " 'ua',\n",
       " 'ie',\n",
       " 'oui',\n",
       " 'ieu',\n",
       " 'ou',\n",
       " 'au',\n",
       " 'au',\n",
       " 'au',\n",
       " 'ea',\n",
       " 'ea',\n",
       " 'ea',\n",
       " 'ee',\n",
       " 'ou',\n",
       " 'io',\n",
       " 'ei',\n",
       " 'ei',\n",
       " 'ei',\n",
       " 'eo',\n",
       " 'eo',\n",
       " 'io',\n",
       " 'ie',\n",
       " 'ou',\n",
       " 'oa',\n",
       " 'oe',\n",
       " 'oe',\n",
       " 'oo',\n",
       " 'ai',\n",
       " 'oui',\n",
       " 'oui',\n",
       " 'ia',\n",
       " 'oui',\n",
       " 'ia',\n",
       " 'oui',\n",
       " 'ie',\n",
       " 'ae',\n",
       " 'ai',\n",
       " 'ia',\n",
       " 'ia',\n",
       " 'ie',\n",
       " 'ie',\n",
       " 'oui',\n",
       " 'ie',\n",
       " 'io',\n",
       " 'io',\n",
       " 'io',\n",
       " 'ia',\n",
       " 'au',\n",
       " 'ui',\n",
       " 'eo',\n",
       " 'ea',\n",
       " 'ea',\n",
       " 'ia',\n",
       " 'ee',\n",
       " 'ei',\n",
       " 'ia',\n",
       " 'ia',\n",
       " 'ia',\n",
       " 'ae',\n",
       " 'ae',\n",
       " 'io',\n",
       " 'ue',\n",
       " 'ai',\n",
       " 'au',\n",
       " 'ee',\n",
       " 'ea',\n",
       " 'ea',\n",
       " 'io',\n",
       " 'ou',\n",
       " 'ui',\n",
       " 'io',\n",
       " 'oi',\n",
       " 'ou',\n",
       " 'ie',\n",
       " 'oo',\n",
       " 'oo',\n",
       " 'oo',\n",
       " 'eo',\n",
       " 'ou',\n",
       " 'ua',\n",
       " 'oi',\n",
       " 'ia',\n",
       " 'ia',\n",
       " 'ia',\n",
       " 'io',\n",
       " 'io',\n",
       " 'io',\n",
       " 'io',\n",
       " 'ea',\n",
       " 'ea',\n",
       " 'ea',\n",
       " 'ee',\n",
       " 'ia',\n",
       " 'ei',\n",
       " 'ei',\n",
       " 'oo',\n",
       " 'eu',\n",
       " 'ou',\n",
       " 'ee',\n",
       " 'ua',\n",
       " 'ie',\n",
       " 'ei',\n",
       " 'ai',\n",
       " 'ie',\n",
       " 'ea',\n",
       " 'ia',\n",
       " 'ou',\n",
       " 'ie',\n",
       " 'ou',\n",
       " 'ei',\n",
       " 'io',\n",
       " 'io',\n",
       " 'ea',\n",
       " 'ia',\n",
       " 'io',\n",
       " 'io',\n",
       " 'ou',\n",
       " 'ia',\n",
       " 'io',\n",
       " 'io',\n",
       " 'io',\n",
       " 'io',\n",
       " 'io',\n",
       " 'ea',\n",
       " 'ea',\n",
       " 'ea',\n",
       " 'ai',\n",
       " 'ia',\n",
       " 'ua',\n",
       " 'ou',\n",
       " 'ia',\n",
       " 'ie',\n",
       " 'ia',\n",
       " 'au',\n",
       " 'au',\n",
       " 'ou',\n",
       " 'ea',\n",
       " 'ia',\n",
       " 'ie',\n",
       " 'eo',\n",
       " 'eo',\n",
       " 'ia',\n",
       " 'oi',\n",
       " 'io',\n",
       " 'ua',\n",
       " 'eu',\n",
       " 'ao',\n",
       " 'ia',\n",
       " 'ia',\n",
       " 'oe',\n",
       " 'ie',\n",
       " 'ie',\n",
       " 'io',\n",
       " 'ai',\n",
       " 'io',\n",
       " 'ie',\n",
       " 'oo',\n",
       " 'oo',\n",
       " 'io',\n",
       " 'ua',\n",
       " 'iou',\n",
       " 'ie',\n",
       " 'ia',\n",
       " 'iou',\n",
       " 'io',\n",
       " 'ee',\n",
       " 'io',\n",
       " 'io',\n",
       " 'ua',\n",
       " 'io',\n",
       " 'ia',\n",
       " 'ia',\n",
       " 'io',\n",
       " 'io',\n",
       " 'ue',\n",
       " 'ua',\n",
       " 'uee',\n",
       " 'ia',\n",
       " 'io',\n",
       " 'ae',\n",
       " 'ai',\n",
       " 'ai',\n",
       " 'oa',\n",
       " 'ei',\n",
       " 'ie',\n",
       " 'au',\n",
       " 'oo',\n",
       " 'ea',\n",
       " 'ea',\n",
       " 'ea',\n",
       " 'ea',\n",
       " 'ea',\n",
       " 'oo',\n",
       " 'ee',\n",
       " 'io',\n",
       " 'ia',\n",
       " 'ai',\n",
       " 'ee',\n",
       " 'ea',\n",
       " 'ea',\n",
       " 'ou',\n",
       " 'au',\n",
       " 'ai',\n",
       " 'eu',\n",
       " 'eu',\n",
       " 'eu',\n",
       " 'ue',\n",
       " 'ie',\n",
       " 'io',\n",
       " 'ou',\n",
       " 'ie',\n",
       " 'ie',\n",
       " 'ie',\n",
       " 'ie',\n",
       " 'ie',\n",
       " 'oe',\n",
       " 'ee',\n",
       " 'oo',\n",
       " 'oo',\n",
       " 'oo',\n",
       " 'ie',\n",
       " 'ou',\n",
       " 'ou',\n",
       " 'ie',\n",
       " 'ia',\n",
       " 'ai',\n",
       " 'ai',\n",
       " 'ue',\n",
       " 'au',\n",
       " 'au',\n",
       " 'au',\n",
       " 'au',\n",
       " 'ia',\n",
       " 'ae',\n",
       " 'oo',\n",
       " 'ei',\n",
       " 'ie',\n",
       " 'ie',\n",
       " 'ia',\n",
       " 'ea',\n",
       " 'ea',\n",
       " 'ea',\n",
       " 'ea',\n",
       " 'ea',\n",
       " 'ea',\n",
       " 'ia',\n",
       " 'ia',\n",
       " 'io',\n",
       " 'ie',\n",
       " 'ee',\n",
       " 'ou',\n",
       " 'io',\n",
       " 'io',\n",
       " 'eou',\n",
       " 'ia',\n",
       " 'ie',\n",
       " 'io',\n",
       " 'ou',\n",
       " 'ea',\n",
       " 'ee',\n",
       " 'ie',\n",
       " 'oo',\n",
       " 'ai',\n",
       " 'ia',\n",
       " 'ie',\n",
       " 'ie',\n",
       " 'eo',\n",
       " 'ie',\n",
       " 'oa',\n",
       " 'ia',\n",
       " 'ie',\n",
       " 'aia',\n",
       " 'io',\n",
       " 'oo',\n",
       " 'ou',\n",
       " 'ou',\n",
       " 'ou',\n",
       " 'ou',\n",
       " 'ou',\n",
       " 'ou',\n",
       " 'ea',\n",
       " 'ou',\n",
       " 'ie',\n",
       " 'ie',\n",
       " 'ai',\n",
       " 'io',\n",
       " 'ee',\n",
       " 'ie',\n",
       " 'ie',\n",
       " 'oo',\n",
       " 'ea',\n",
       " 'ie',\n",
       " 'uie',\n",
       " 'iu',\n",
       " 'iu',\n",
       " 'ea',\n",
       " 'ee',\n",
       " 'ee',\n",
       " 'ei',\n",
       " 'ie',\n",
       " 'ie',\n",
       " 'ie',\n",
       " 'ai',\n",
       " 'ee',\n",
       " 'ua',\n",
       " 'ui',\n",
       " 'ai',\n",
       " 'ea',\n",
       " 'ai',\n",
       " 'ai',\n",
       " 'ei',\n",
       " 'ai',\n",
       " 'ai',\n",
       " 'ai',\n",
       " 'eo',\n",
       " 'au',\n",
       " 'ea',\n",
       " 'ea',\n",
       " 'ei',\n",
       " 'io',\n",
       " 'io',\n",
       " 'ai',\n",
       " 'ai',\n",
       " 'ei',\n",
       " 'eo',\n",
       " 'ou',\n",
       " 'ou',\n",
       " 'ee',\n",
       " 'oo',\n",
       " 'io',\n",
       " 'oo',\n",
       " 'ou',\n",
       " 'ou',\n",
       " 'io',\n",
       " 'io',\n",
       " 'ai',\n",
       " 'ai',\n",
       " 'io',\n",
       " 'ea',\n",
       " 'ie',\n",
       " 'ee',\n",
       " 'au',\n",
       " 'ou',\n",
       " 'eau',\n",
       " 'ue',\n",
       " 'ou',\n",
       " 'ai',\n",
       " 'oo',\n",
       " 'oo',\n",
       " 'io',\n",
       " 'ie',\n",
       " 'ie',\n",
       " 'ue',\n",
       " 'ia',\n",
       " 'eo',\n",
       " 'ia',\n",
       " 'ia',\n",
       " 'ua',\n",
       " 'oi',\n",
       " 'ae',\n",
       " 'ae',\n",
       " 'ui',\n",
       " 'ou',\n",
       " 'oo',\n",
       " 'ea',\n",
       " 'ee',\n",
       " 'ei',\n",
       " 'ei',\n",
       " 'ie',\n",
       " 'ei',\n",
       " 'ou',\n",
       " 'ee',\n",
       " 'ea',\n",
       " 'ia',\n",
       " 'ia',\n",
       " 'ia',\n",
       " 'ou',\n",
       " 'oo',\n",
       " 'oo',\n",
       " 'oo',\n",
       " 'oo',\n",
       " 'oo',\n",
       " 'ee',\n",
       " 'ia',\n",
       " 'iao',\n",
       " 'ai',\n",
       " 'ea',\n",
       " 'ea',\n",
       " 'ie',\n",
       " 'ou',\n",
       " 'ou',\n",
       " 'ou',\n",
       " 'ou',\n",
       " 'ou',\n",
       " 'ue',\n",
       " 'ea',\n",
       " 'oa',\n",
       " 'io',\n",
       " 'io',\n",
       " 'io',\n",
       " 'io',\n",
       " 'ou',\n",
       " 'ou',\n",
       " 'oa',\n",
       " 'io',\n",
       " 'ie',\n",
       " 'io',\n",
       " 'ou',\n",
       " 'ou',\n",
       " 'ou',\n",
       " 'ou',\n",
       " 'ou',\n",
       " 'ou',\n",
       " 'ou',\n",
       " 'ue',\n",
       " 'ue',\n",
       " 'ie',\n",
       " 'ie',\n",
       " 'ie',\n",
       " 'ie',\n",
       " 'ie',\n",
       " 'ai',\n",
       " 'ui',\n",
       " 'ui',\n",
       " 'ui',\n",
       " 'ui',\n",
       " 'ui',\n",
       " 'ui',\n",
       " 'ui',\n",
       " 'io',\n",
       " 'ui',\n",
       " 'io',\n",
       " 'ui',\n",
       " 'io',\n",
       " 'io',\n",
       " 'io',\n",
       " 'ie',\n",
       " 'ua',\n",
       " 'ua',\n",
       " 'io',\n",
       " 'io',\n",
       " 'io',\n",
       " 'io',\n",
       " 'ua',\n",
       " 'ua',\n",
       " 'io',\n",
       " 'io',\n",
       " 'ia',\n",
       " 'ae',\n",
       " 'ae',\n",
       " 'ai',\n",
       " 'ai',\n",
       " 'ia',\n",
       " 'ia',\n",
       " 'ai',\n",
       " 'oo',\n",
       " 'ai',\n",
       " 'ai',\n",
       " 'ie',\n",
       " 'ee',\n",
       " 'ee',\n",
       " 'ee',\n",
       " 'eei',\n",
       " 'ee',\n",
       " 'ee',\n",
       " 'ee',\n",
       " 'ea',\n",
       " 'ai',\n",
       " 'ai',\n",
       " 'ai',\n",
       " 'ai',\n",
       " 'ai',\n",
       " 'ai',\n",
       " 'ai',\n",
       " 'ai',\n",
       " 'ai',\n",
       " 'ai',\n",
       " 'ai',\n",
       " 'ai',\n",
       " 'ai',\n",
       " 'ai',\n",
       " 'ai',\n",
       " 'ai',\n",
       " 'ai',\n",
       " 'ai',\n",
       " 'ai',\n",
       " 'ie',\n",
       " 'io',\n",
       " 'ia',\n",
       " 'ie',\n",
       " 'io',\n",
       " 'ea',\n",
       " 'ou',\n",
       " 'ui',\n",
       " 'io',\n",
       " 'iou',\n",
       " 'io',\n",
       " 'ou',\n",
       " 'ou',\n",
       " 'ou',\n",
       " 'ie',\n",
       " 'ou',\n",
       " 'ou',\n",
       " 'ou',\n",
       " 'ou',\n",
       " 'ua',\n",
       " 'ua',\n",
       " 'ua',\n",
       " 'io',\n",
       " 'io',\n",
       " 'ia',\n",
       " 'eo',\n",
       " 'io',\n",
       " 'ie',\n",
       " 'ie',\n",
       " 'iou',\n",
       " 'ie',\n",
       " 'ea',\n",
       " 'ea',\n",
       " 'ea',\n",
       " 'ea',\n",
       " 'ea',\n",
       " 'ea',\n",
       " 'ea',\n",
       " 'ea',\n",
       " 'au',\n",
       " 'ia',\n",
       " 'ia',\n",
       " 'io',\n",
       " 'io',\n",
       " 'ie',\n",
       " 'oi',\n",
       " 'oi',\n",
       " 'oi',\n",
       " 'oi',\n",
       " 'ia',\n",
       " 'io',\n",
       " 'oa',\n",
       " 'oa',\n",
       " 'oa',\n",
       " 'ia',\n",
       " 'ia',\n",
       " 'ia',\n",
       " 'io',\n",
       " 'ia',\n",
       " 'io',\n",
       " 'ia',\n",
       " 'ea',\n",
       " 'ea',\n",
       " 'ue',\n",
       " 'ue',\n",
       " 'ue',\n",
       " 'ui',\n",
       " 'ou',\n",
       " 'io',\n",
       " 'au',\n",
       " 'au',\n",
       " 'io',\n",
       " 'io',\n",
       " 'ua',\n",
       " 'io',\n",
       " 'ia',\n",
       " 'ia',\n",
       " 'ia',\n",
       " 'ia',\n",
       " 'io',\n",
       " 'io',\n",
       " 'io',\n",
       " 'ie',\n",
       " 'io',\n",
       " 'au',\n",
       " 'io',\n",
       " 'au',\n",
       " ...]"
      ]
     },
     "execution_count": 23,
     "metadata": {},
     "output_type": "execute_result"
    }
   ],
   "source": [
    "[vs for word in wsj for vs in re.findall('[aeiou]{2,}', word)]"
   ]
  },
  {
   "cell_type": "markdown",
   "metadata": {},
   "source": [
    "* freqdist의 입력의 type은 string list /  만약 wordlist 대신 사전을 넣으면, 빈도수는 전부 다 1이 나올 것(사전은 다 한번씩만 등장함)"
   ]
  },
  {
   "cell_type": "code",
   "execution_count": 25,
   "metadata": {
    "scrolled": true
   },
   "outputs": [
    {
     "data": {
      "text/plain": [
       "[('io', 549),\n",
       " ('ea', 476),\n",
       " ('ie', 331),\n",
       " ('ou', 329),\n",
       " ('ai', 261),\n",
       " ('ia', 253),\n",
       " ('ee', 217),\n",
       " ('oo', 174),\n",
       " ('ua', 109),\n",
       " ('au', 106)]"
      ]
     },
     "execution_count": 25,
     "metadata": {},
     "output_type": "execute_result"
    }
   ],
   "source": [
    "fdist = nltk.FreqDist(vs for word in wsj for vs in re.findall('[aeiou]{2,}', word))  #[aeiou]{2,}: 모음이 2개 이상 들어있는 것/type = list\n",
    "fdist.most_common(10)"
   ]
  },
  {
   "cell_type": "code",
   "execution_count": 27,
   "metadata": {},
   "outputs": [
    {
     "name": "stdout",
     "output_type": "stream",
     "text": [
      "['Universal', 'Declaration', 'of', 'Human', 'Rights', ...]\n"
     ]
    }
   ],
   "source": [
    "english_udhr = nltk.corpus.udhr.words('English-Latin1')\n",
    "print(english_udhr)"
   ]
  },
  {
   "cell_type": "markdown",
   "metadata": {},
   "source": [
    "* 함수을 직접 제작 : def 부터 return까지가 함수 / indent 잘 맞추어서 작성해야 함수가 생성됨\n",
    "* 함수의 출력 값,즉 return 작성하지 않으면 출력값 없음 / 입력과 출력 모두 optional(정해주어도 되고 안해주어도 됨) =아무거나 다 입력으로 가능하게하려면 () 쓰면 됨. "
   ]
  },
  {
   "cell_type": "markdown",
   "metadata": {},
   "source": [
    "* '^[AEIOUaeiou]+|[AEIOUaeiou]+$|[^AEIOUaeiou]':세 조건 중 하나만 만족시키면 찾아라(bar는 or이니까) : 모음 하나 이상으로 시작하는 것 찾아라,모음 하나이상으로 끝나는 것 찾아라, 모음이 아니면 찾아라-처음 모음과 마지막 모음만 살리고, 중간에 나오는 모음은 전부 찾지 않음\n",
    "* 입력 이름: word라고 정함, 함수 이름: compress라고 정함(마음대로 정하면 됨), 입력을 여러개 하고 싶으면 comma 사용"
   ]
  },
  {
   "cell_type": "code",
   "execution_count": 29,
   "metadata": {},
   "outputs": [
    {
     "data": {
      "text/plain": [
       "['Unvrsl',\n",
       " 'Dclrtn',\n",
       " 'of',\n",
       " 'Hmn',\n",
       " 'Rghts',\n",
       " 'Prmble',\n",
       " 'Whrs',\n",
       " 'rcgntn',\n",
       " 'of',\n",
       " 'the',\n",
       " 'inhrnt',\n",
       " 'dgnty',\n",
       " 'and',\n",
       " 'of',\n",
       " 'the',\n",
       " 'eql',\n",
       " 'and',\n",
       " 'inlnble',\n",
       " 'rghts',\n",
       " 'of',\n",
       " 'all',\n",
       " 'mmbrs',\n",
       " 'of',\n",
       " 'the',\n",
       " 'hmn',\n",
       " 'fmly',\n",
       " 'is',\n",
       " 'the',\n",
       " 'fndtn',\n",
       " 'of',\n",
       " 'frdm',\n",
       " ',',\n",
       " 'jstce',\n",
       " 'and',\n",
       " 'pce',\n",
       " 'in',\n",
       " 'the',\n",
       " 'wrld',\n",
       " ',',\n",
       " 'Whrs',\n",
       " 'dsrgrd',\n",
       " 'and',\n",
       " 'cntmpt',\n",
       " 'fr',\n",
       " 'hmn',\n",
       " 'rghts',\n",
       " 'hve',\n",
       " 'rsltd',\n",
       " 'in',\n",
       " 'brbrs',\n",
       " 'acts',\n",
       " 'whch',\n",
       " 'hve',\n",
       " 'outrgd',\n",
       " 'the',\n",
       " 'cnscnce',\n",
       " 'of',\n",
       " 'mnknd',\n",
       " ',',\n",
       " 'and',\n",
       " 'the',\n",
       " 'advnt',\n",
       " 'of',\n",
       " 'a',\n",
       " 'wrld',\n",
       " 'in',\n",
       " 'whch',\n",
       " 'hmn',\n",
       " 'bngs',\n",
       " 'shll',\n",
       " 'enjy',\n",
       " 'frdm',\n",
       " 'of',\n",
       " 'spch',\n",
       " 'and']"
      ]
     },
     "execution_count": 29,
     "metadata": {},
     "output_type": "execute_result"
    }
   ],
   "source": [
    "regexp = '^[AEIOUaeiou]+|[AEIOUaeiou]+$|[^AEIOUaeiou]'\n",
    "def compress(word):\n",
    "    pieces = re.findall(regexp, word)\n",
    "    return ''.join(pieces)    # ''.join : 아무 조건 없이 붙여라.\n",
    "[compress(w) for w in english_udhr[:75]]"
   ]
  },
  {
   "cell_type": "code",
   "execution_count": 31,
   "metadata": {},
   "outputs": [],
   "source": [
    "rotokas_words = nltk.corpus.toolbox.words('rotokas.dic')\n",
    "#print(rotokas_words)"
   ]
  },
  {
   "cell_type": "code",
   "execution_count": 32,
   "metadata": {},
   "outputs": [
    {
     "name": "stdout",
     "output_type": "stream",
     "text": [
      "['ka', 'ka', 'ka', 'ka', 'ka', 'ro', 'ka', 'ka', 'vi', 'ko', 'ka', 'ka', 'vo', 'ka', 'ka', 'ko', 'ka', 'ka', 'si', 'ka', 'ka', 'ka', 'ka', 'ko', 'ka', 'ki', 'to', 'ka', 'ku', 'pa', 'to', 'ka', 'va', 'ka', 'pa', 'ka', 'pe', 'ka', 'pi', 'ka', 'pi', 'ka', 'pi', 'pa', 'to', 'ka', 'pi', 'si', 'ka', 'pi', 'si', 'vi', 'ra', 'ka', 'po', 'ka', 'po', 'pa', 'to', 'ka', 'ra', 'ka', 're', 'ka', 're', 'ko', 'ka', 're', 'ko', 'pi', 'ka', 're', 'to', 're', 'va', 'ka', 'va', 'ka', 'va', 'ka', 've', 'ka', 'ka', 've', 'ka', 'pi', 'ka', 've', 'ka', 'pi', 'vi', 'ra', 'ka', 've', 'ka', 'vi', 'ra', 'ka', 'ka', 'ka', 'ka', 'ka', 'ka', 'ka', 'ka', 'ro', 'ka', 'ka', 'ka', 'ka', 'so', 'to', 'ka', 'ka', 'vi', 'ra', 'ka', 'ke', 'ru', 'ka', 'pa', 'ka', 'pi', 'ka', 'pi', 'ka', 'pi', 'vi', 'ra', 'ka', 're', 'si', 'ka', 're', 'si', 'vi', 'ra', 'ka', 'tu', 'ka', 'tu', 'pi', 'ka', 'tu', 'vi', 'ra', 'ka', 'vi', 'ro', 'ka', 've', 'ka', 'ka', 'ka', 'ka', 'ka', 'po', 'ri', 'ka', 'po', 'ri', 'pi', 'ka', 'po', 'ri', 'vi', 'ra', 'ka', 'ri', 'ka', 'ri', 'ro', 'ka', 'ro', 'ka', 'ta', 'ka', 'tu', 'tu', 'ka', 'tu', 'tu', 'pi', 'ka', 'tu', 'tu', 'vi', 'ra', 'ka', 'ka', 'ka', 'ka', 'ka', 'ka', 'ka', 'ka', 'vi', 'ra', 'ka', 'ka', 'pi', 'ko', 'ka', 'ka', 'pi', 'ko', 'to', 'ka', 'ka', 'pu', 'ka', 'ka', 'pu', 'ka', 'ka', 'ra', 'ka', 'ra', 'pa', 'ka', 'ka', 'ra', 'ka', 're', 'ra', 'ka', 'ka', 'ta', 'ka', 'ka', 'te', 'ka', 'ka', 'tu', 'ra', 'ka', 'ka', 'ka', 'ka', 'ka', 'ka', 've', 'ka', 'ka', 'vo', 'ro', 'ka', 'ka', 'vu', 'ka', 'ke', 'to', 'ka', 'ki', 'ka', 'ki', 'ka', 'ki', 'ki', 'ka', 'ki', 'ri', 'ka', 'ki', 'ka', 'ku', 'ka', 'ku', 'ka', 'ku', 'ku', 'ka', 'ku', 'pa', 'ka', 'ku', 'pa', 're', 'ka', 'ku', 'pa', 'to', 'ka', 'ku', 'pi', 'ka', 'ku', 'pu', 'te', 'ka', 'ku', 'ta', 'ka', 'ku', 'to', 'ka', 'ku', 'tu', 'to', 'ka', 'ku', 'va', 'ka', 'ku', 'vi', 'ra', 'ka', 'ro', 'ka', 'ra', 'ka', 'ka', 'ka', 'ka', 'ra', 'ka', 'ka', 'to', 'ka', 'pa', 'ka', 'pa', 'ka', 'pa', 'va', 'ka', 'pa', 'ka', 'pa', 'ra', 'ka', 'pa', 'ru', 'ka', 'pa', 'ru', 'vi', 'ra', 'ka', 'pa', 'ta', 'ka', 'pa', 'to', 'ro', 'ka', 'pa', 'to', 'ro', 'to', 'ka', 'pe', 'ka', 'pe', 'ka', 'pe', 'ka', 'pe', 'vi', 'ra', 'ka', 'pe', 'ka', 'pe', 'ka', 'pe', 'ka', 'pe', 'vi', 'ra', 'ka', 'pe', 're', 'ka', 'pe', 're', 'pi', 'ka', 'pi', 'ka', 'pi', 'ka', 'pi', 'vi', 'ra', 'ka', 'pi', 'ka', 'pi', 'ka', 'pi', 'ro', 'ka', 'pi', 'ro', 'ka', 'pi', 'ro', 'ko', 'ka', 'pi', 'si', 'ka', 'pi', 'si', 'to', 'ka', 'pi', 'ka', 'pi', 'ka', 'po', 'ka', 'po', 'ka', 'po', 'ka', 'ka', 'po', 'ka', 'po', 'ka', 'po', 'ka', 'po', 'ka', 'po', 'ka', 'po', 'ra', 'ka', 'po', 'ka', 'po', 'ro', 'ka', 'po', 'ka', 'ri', 'ka', 'po', 'ka', 'ri', 'to', 'ka', 'po', 'ko', 'ka', 'po', 'ka', 'po', 'to', 'ka', 'po', 'vi', 'ra', 'ka', 'po', 'pa', 'ka', 'po', 'ro', 'ka', 'po', 'ro', 'ka', 'po', 'ro', 'pa', 'ka', 'po', 'ro', 'to', 'ka', 'po', 'to', 'ka', 'pu', 'ka', 'pu', 'ka', 'pu', 'ka', 'pu', 'pa', 'to', 'ka', 'pu', 'pi', 'ka', 'pu', 'si', 'si', 'ka', 'pu', 'pi', 'ka', 'pu', 'pi', 'ka', 'pu', 'pi', 'pa', 'ka', 'pu', 'ka', 'pu', 'pi', 'ka', 'pu', 'pi', 'pa', 'ra', 'ka', 'ra', 'ka', 'ra', 'va', 'ka', 'ra', 'ka', 'ra', 'ka', 'ra', 'ka', 'ra', 'ka', 'ra', 'ka', 'ra', 'to', 'ka', 'ra', 'ka', 'ra', 'vi', 'ra', 'ka', 'ra', 'ka', 'ro', 'to', 'ka', 'ra', 'ku', 'ku', 'ka', 'ra', 'va', 'ka', 'ra', 'pi', 'ka', 'ra', 'pi', 'vi', 'ra', 'ka', 'ra', 'ra', 'ka', 'ra', 'ta', 'ka', 'ra', 'to', 'ka', 'ra', 'va', 'ka', 'ra', 'vi', 'si', 'ka', 'ra', 'vi', 'si', 'to', 'ka', 'ra', 'vu', 'ru', 'ka', 're', 'ka', 're', 'ka', 're', 'ka', 're', 'ka', 're', 'ka', 're', 'ka', 're', 'ka', 're', 're', 'ra', 'va', 'ka', 're', 'ka', 're', 'to', 'ka', 're', 'ke', 'ka', 're', 'ke', 'pi', 'ka', 're', 'ko', 'va', 'ka', 're', 'ka', 're', 'vi', 'ra', 'ka', 're', 'pi', 'ka', 're', 'pi', 'to', 're', 'pi', 'ri', 'ka', 'ri', 'ka', 'ri', 'ka', 'ri', 'va', 'ka', 'ri', 'ka', 'ri', 'ka', 'ri', 'ra', 'pa', 'ka', 'ri', 'si', 'to', 'ka', 'ri', 'va', 'ka', 'ri', 'va', 'to', 'ka', 'ri', 'va', 'ra', 'ka', 'ro', 'ka', 'ro', 'ka', 'ro', 'po', 'ka', 'ro', 'pa', 'to', 'ka', 'ro', 'po', 'ka', 'ro', 'ka', 'ro', 'to', 'ka', 'ro', 'va', 'ka', 'ru', 'ka', 'ru', 'ka', 'ka', 'ru', 'ka', 'ru', 'ka', 'ru', 'ka', 'va', 'ru', 'ru', 'ka', 'ru', 'tu', 'ka', 'ru', 'vi', 'ra', 'ka', 'si', 'ka', 'si', 'ka', 'si', 'ka', 'si', 'ra', 'ka', 'si', 'va', 'ka', 'si', 'ka', 'si', 'si', 'ka', 'si', 'ka', 'si', 'pi', 'ka', 'si', 'pu', 'ka', 'si', 'pu', 'pi', 'ka', 'si', 'pu', 'vi', 'ra', 'ka', 'si', 'ra', 'ka', 'si', 'ra', 'pi', 'ka', 'si', 'ra', 'vi', 'ra', 'ka', 'si', 'ka', 'si', 'ra', 'ka', 'si', 'va', 'ri', 'ka', 'su', 'ri', 'ka', 'ta', 'ka', 'ta', 'ka', 'ta', 'to', 're', 'ka', 'ta', 'ka', 'ta', 'ka', 'ta', 'ka', 'ta', 'vi', 'ra', 'ka', 'ta', 'ra', 'ka', 'ta', 'ra', 'to', 'ka', 'ta', 'vi', 'ra', 'ka', 'to', 'ka', 'to', 'ka', 'to', 'ka', 'to', 'to', 'ka', 'to', 'ka', 'to', 'vi', 'ra', 'ka', 'to', 'ko', 'ka', 'to', 'pa', 'to', 'ka', 'to', 'to', 'ka', 'tu', 'ra', 'ka', 'tu', 'ra', 'to', 'ka', 'tu', 'ka', 'tu', 'ka', 'tu', 'ta', 'ka', 'ka', 'ka', 'ka', 'ka', 'pi', 'ka', 'ka', 'vi', 'ra', 'ka', 'ko', 'vo', 'ka', 'ka', 'ka', 'ka', 're', 'ka', 're', 'to', 'ka', 'si', 'pa', 'ka', 'si', 'vi', 'ra', 'va', 'ka', 'va', 'ka', 'va', 'ka', 'va', 'ta', 'va', 'ta', 'ra', 'ka', 'va', 'ka', 'va', 'ka', 'va', 'si', 'va', 'ka', 've', 'ka', 've', 'ka', 've', 'pa', 'ka', 've', 'ru', 'ka', 've', 'ru', 'ko', 'ka', 've', 'si', 'ka', 'vi', 'ka', 'vi', 'ka', 'vi', 'ka', 'vi', 'ru', 'ka', 'vi', 'ka', 'vi', 'ru', 'ka', 'vi', 'ko', 'ka', 'vi', 'ko', 'ka', 'vi', 'ru', 'ka', 'vi', 'ru', 'ka', 'vi', 'ru', 'to', 'ka', 'vi', 'ru', 'vi', 'ra', 'ka', 'vo', 'ka', 'vo', 'ka', 'vo', 'ka', 'vo', 'ka', 'vo', 'ka', 'vo', 'ka', 'vo', 'to', 'ka', 'vo', 'ra', 'ka', 'vo', 'ra', 'to', 'ka', 'vo', 'ri', 'ka', 'vo', 'ri', 'ka', 'vo', 'ro', 'ka', 'vo', 'vo', 'ka', 'vo', 'vo', 'vi', 'ra', 'ka', 'vu', 'ka', 'vu', 'ka', 'vu', 'va', 'ka', 'vu', 'pi', 'ka', 'vu', 'ra', 'ka', 'vu', 'ra', 'ka', 'vu', 'si', 'ka', 'vu', 'vo', 'ke', 'ke', 'ke', 'ke', 'ke', 'to', 'ke', 'ri', 'ke', 'ri', 'to', 'ke', 'vi', 'ra', 'ke', 'ke', 'ke', 'ke', 'ke', 'pa', 'ke', 'ke', 'ri', 'ke', 'ke', 'ri', 'to', 'ke', 'ra', 'ke', 'ri', 'va', 'ke', 'si', 'ke', 'ta', 'ke', 'vu', 'ru', 'ke', 'vu', 'ru', 'vi', 'ra', 'ke', 'ke', 'ke', 'ke', 'ke', 'ke', 'ke', 'ke', 'pi', 'ke', 'ke', 'pu', 'tu', 'ke', 'ke', 'pu', 'tu', 'vi', 'ra', 'ke', 'ke', 'ra', 'ko', 'vi', 'ra', 'ke', 'ke', 'so', 'pa', 'ke', 'ke', 'vo', 'to', 'ke', 'ke', 'vo', 'to', 'vi', 'ra', 'ke', 'ki', 'ra', 'ke', 'ke', 'ka', 'ke', 'pa', 'ke', 'vi', 'ra', 'ke', 'pa', 'ke', 'pa', 'to', 'pa', 'to', 'ke', 'pe', 'ta', 'ke', 'pi', 'ke', 'pi', 'ke', 'pi', 'ke', 'pi', 'ke', 'pi', 'ko', 'ke', 'pi', 'ri', 'ko', 'ke', 'pi', 'ro', 'ke', 'pi', 'si', 'ke', 'pi', 'si', 'va', 'ke', 'pi', 'ta', 'ke', 'pi', 'ta', 'ke', 'pi', 'to', 'ke', 'po', 'ke', 'po', 'ke', 'po', 'si', 'ke', 'po', 'to', 'ke', 'ra', 'ke', 'ra', 'ke', 'ra', 'ke', 'ra', 'ri', 'ke', 'ra', 'ri', 'ke', 'ra', 'ke', 'ra', 'to', 'ke', 'ra', 'vi', 'si', 'ke', 'ra', 'vi', 'si', 'ke', 'ra', 'vo', 're', 'ka', 'ke', 're', 'ko', 'ke', 're', 're', 'ke', 're', 're', 'ke', 're', 'te', 'ke', 're', 'te', 're', 'va', 'ru', 'ke', 'ri', 'ri', 'ka', 'ke', 'ri', 'ke', 'ri', 'si', 'ke', 'ri', 'ke', 'ri', 'ke', 'ri', 'pa', 'ra', 'ke', 'ri', 'pa', 'to', 'ke', 'ri', 'si', 'ke', 'ri', 'si', 'to', 'ke', 'ri', 'si', 'vi', 'ra', 'ke', 'ri', 'ta', 'ra', 'ke', 'ri', 'va', 'ke', 'ro', 'ro', 'ke', 'ro', 'si', 'ri', 'ke', 'ru', 'ke', 'ru', 'ke', 'ru', 'ke', 'ru', 'to', 'ke', 'ru', 'to', 'ke', 'ru', 'pi', 'ke', 'ru', 'ri', 'ke', 'ru', 'ri', 'to', 'ke', 'ru', 'ri', 'vi', 'ra', 'ke', 'si', 'ke', 'si', 'ke', 'si', 'vi', 'ra', 'ke', 'si', 'ke', 'va', 'ru', 'ke', 'si', 'ke', 'si', 'to', 'ke', 'si', 'vi', 'ra', 'ke', 'ta', 'ke', 'ta', 'ka', 'ke', 'ta', 'ka', 'ke', 'ta', 'to', 'ke', 'to', 'ke', 'to', 'ke', 'to', 'pi', 'ke', 'to', 'pi', 'ra', 'ke', 'to', 'ro', 'ke', 'tu', 'ke', 'va', 'ta', 'ke', 'va', 'ta', 'ke', 'va', 'ta', 'to', 'ke', 'vi', 'ra', 'ke', 'vi', 'si', 'ke', 'vo', 'si', 'ke', 'vo', 'si', 'vi', 'ra', 'ki', 'ki', 'ki', 'ka', 'ri', 'ko', 'ki', 'pi', 'ki', 're', 'ki', 're', 'ki', 'ru', 'ki', 'to', 'ki', 'ki', 'ki', 'ki', 'ki', 'ki', 'pi', 'ki', 'ki', 'pi', 'si', 'ki', 'ki', 'ra', 'ki', 'ki', 'ra', 'ko', 'ki', 'ki', 'si', 'ki', 'ki', 'si', 'ka', 'ki', 'ki', 'si', 'va', 'ki', 'ki', 'ta', 'si', 'ki', 'ko', 'ki', 'ki', 'ki', 'pa', 'ki', 'pa', 'pi', 'ki', 'pe', 'ki', 'pe', 'ki', 'pe', 'ki', 'pe', 'ki', 'pe', 'ki', 'pe', 'to', 'ki', 'pu', 'ki', 'pu', 'ki', 'pu', 'ki', 'pu', 'pa', 'ki', 'pu', 'pa', 'to', 'ki', 'pu', 'vi', 'ra', 'ki', 'ra', 'ki', 'ra', 'va', 'ki', 're', 'ki', 'ri', 'ki', 'ri', 'ka', 'ka', 'ki', 'ri', 'to', 'ki', 'ro', 'ki', 'ro', 'ki', 'ro', 'ki', 'ro', 'ki', 'ro', 'ki', 'ro', 'ki', 'ro', 'pa', 'to', 'ki', 'ro', 'ko', 'ki', 'ru', 'ki', 'ru', 'ki', 'ru', 'ki', 'ru', 'ki', 'ru', 'ki', 'ru', 'pa', 'to', 'ki', 'to', 'va', 'ki', 'tu', 'ki', 'tu', 'ki', 'tu', 'ki', 'ki', 'pi', 'ki', 'to', 'ki', 've', 'ki', 'vu', 'ko', 'ko', 'ko', 'ko', 'ko', 'ko', 'ko', 'ra', 'ko', 'ra', 'ko', 'ra', 'ko', 'ra', 'va', 'ko', 'si', 'ko', 'ta', 'ko', 'ta', 'pi', 'ko', 've', 'ko', 'va', 'to', 'ko', 'ko', 'ko', 'ko', 'ko', 'ko', 'to', 'ko', 'pa', 'to', 'ko', 'ta', 'ko', 'ta', 'va', 'ko', 'ta', 'pi', 'ko', 'ta', 'va', 'ko', 'ta', 'vi', 'ra', 'ko', 'to', 'ko', 'ko', 'va', 'ko', 'ko', 'ko', 'ko', 'ke', 'ko', 'ke', 'to', 'ko', 'ke', 'vi', 'ra', 'ko', 'ko', 'ko', 'ko', 'pa', 'to', 'ko', 'ko', 'pi', 'ko', 'ko', 'to', 'ko', 'si', 'ko', 'si', 'va', 'ko', 'vi', 'ra', 'ko', 'ka', 'ko', 'ka', 'ko', 'ka', 'ra', 'ko', 'ka', 'ra', 'ko', 'ka', 'ra', 'pa', 'to', 'ko', 'ke', 'ko', 'ke', 'ko', 'ke', 'pa', 'to', 'ko', 'ke', 'pa', 'to', 'ko', 'ke', 'pi', 'ko', 'ke', 'ra', 'ko', 'ke', 'ri', 'va', 'ko', 'ke', 'ko', 'ke', 'va', 'ko', 'ki', 'ko', 'ki', 'ki', 'pa', 'ko', 'ki', 'to', 'ko', 'ki', 'vi', 'ra', 'ko', 'ko', 'ko', 'ko', 'ko', 'ko', 'ko', 'ko', 'si', 'ko', 'ko', 'ko', 'ru', 'ko', 'ko', 'ko', 'ko', 'ko', 'ko', 'ko', 'ko', 'ko', 'ko', 'te', 'ko', 'ko', 'tu', 'ko', 'ko', 'pa', 'ko', 'ko', 'pa', 'ko', 'ko', 'ko', 'pe', 'ko', 'ko', 'ko', 'pe', 'ko', 'vi', 'ra', 'ko', 'ko', 'pe', 'to', 'ko', 'ko', 'pu', 'to', 'ko', 'ko', 'pu', 'vi', 'ra', 'ko', 'pu', 'ru', 'ko', 'ko', 'pu', 'vi', 'ra', 'ko', 'ko', 'ra', 'ko', 'ko', 'ra', 'ko', 'ko', 'ra', 'to', 'ko', 'ko', 'ri', 'ko', 'ko', 'ri', 'vi', 'ra', 'ko', 'ko', 'ro', 'ko', 'ko', 'ro', 'ki', 'ko', 'ko', 'ro', 'ku', 'ko', 'ko', 'ro', 'ku', 'pi', 'ko', 'ko', 'ro', 'pa', 'to', 'ko', 'ko', 'ro', 'si', 'ko', 'ko', 'ro', 'vi', 'ra', 'ko', 'ko', 'ru', 'ko', 'ko', 'ru', 'ko', 'ko', 'ru', 'ko', 'ko', 'si', 'ko', 'ko', 'si', 'ko', 'si', 'ri', 'ko', 'ko', 'si', 'to', 'ko', 'ko', 'si', 'va', 'ko', 'ko', 'ta', 'ko', 'ko', 'te', 'ko', 'ko', 'to', 'ko', 'ko', 'tu', 'ko', 'ko', 'tu', 'ko', 'ko', 'tu', 'ko', 'ko', 'va', 'ko', 'ko', 'va', 'va', 'ko', 'ko', 'va', 'ra', 'ko', 'ko', 'va', 'ra', 'ko', 'ko', 'va', 'ra', 'vi', 'ra', 'ko', 'ko', 'vu', 'ko', 'ko', 'vu', 'ko', 'ko', 'vu', 'ko', 'ko', 'vu', 'ko', 'ko', 'vu', 'pa', 'pa', 'ri', 'ko', 'ko', 'vu', 'ri', 'to', 'ko', 'ku', 'ko', 'ku', 'ku', 'ko', 'ku', 're', 'ko', 'ko', 'ku', 'to', 'ko', 'ko', 'ka', 'ko', 'ka', 'ko', 'ko', 'ko', 'ko', 'ko', 'ko', 'pe', 'ko', 'ko', 'ko', 'pi', 'ko', 'ku', 'ko', 'ku', 'to', 'ko', 'ku', 'vi', 'ra', 'ko', 'pi', 'ko', 'pi', 'pi', 'ko', 'ra', 'ko', 'ro', 'ko', 'ro', 'to', 'ko', 'ro', 'to', 'ko', 'ro', 'vi', 'ra', 'ko', 'ru', 'ko', 'ta', 'ko', 'to', 'pa', 'ko', 'tu', 'tu', 'ko', 'ko', 'pa', 'to', 'ko', 'va', 'ko', 'va', 'ko', 'vo', 'to', 'ko', 'vo', 'to', 'va', 'ko', 'pa', 'ko', 'pa', 'ka', 'ko', 'pa', 'ka', 'va', 'ko', 'pa', 'ko', 'pa', 'ko', 'pa', 'ko', 'vi', 'ra', 'ko', 'pa', 'to', 'ko', 'pi', 'ko', 'pi', 'ko', 'pi', 'pa', 'to', 'ko', 'pi', 'pi', 'ko', 'pi', 'to', 'ko', 'pi', 'ka', 'ko', 'pi', 'ko', 'pi', 'ko', 'pi', 'ko', 'pi', 'ra', 'ko', 'pi', 'pi', 'ko', 'pi', 'ro', 'vu', 'ko', 'pu', 'ko', 'pu', 'ko', 'pu', 'si', 'ko', 'pu', 'si', 'pi', 'ko', 'pu', 'si', 'to', 'ko', 'pu', 'si', 'to', 'vi', 'ra', 'ko', 'pu', 'si', 'vi', 'ra', 'pu', 'si', 'ko', 'pu', 'ko', 'pu', 'ko', 'pu', 'ko', 'pu', 'ko', 'pu', 'pa', 'ko', 'pu', 'pi', 'ra', 'ko', 'pu', 'ro', 'pu', 'ru', 'ko', 'pu', 'vi', 'ro', 'ko', 'pu', 'vi', 'ra', 'ko', 'ra', 'ko', 'ra', 'pa', 'to', 'ko', 'ra', 'ra', 'ko', 'ra', 'ra', 'ko', 'ko', 'ra', 'ko', 'ra', 'ko', 'ra', 'ru', 'ko', 'ra', 'vi', 'ra', 'ko', 're', 'ko', 're', 'ka', 're', 're', 're', 'ko', 're', 're', 'to', 'ko', 'ri', 'ko', 'ri', 'ri', 'ri', 'ko', 'ri', 'ko', 'ri', 'ko', 'ri', 'ko', 'ri', 'pa', 'va', 'ko', 'ri', 'ta', 'ko', 'ri', 'ta', 'ko', 'ri', 'te', 'ra', 'ko', 'ro', 'ko', 'ro', 'ro', 'ko', 'ro', 'ro', 'ko', 'ro', 'ro', 'si', 'vi', 'ra', 'ko', 'ro', 'ro', 'vi', 'ko', 'ro', 'ro', 'vi', 'vi', 'ra', 'ko', 'ro', 'ru', 'ko', 'ro', 'ru', 'pi', 'ko', 'ro', 'to', 'ko', 'ro', 'vi', 'ri', 'ko', 'ro', 'vo', 'ko', 'ru', 'ru', 'ko', 'ko', 'ru', 'ko', 'ru', 'ko', 'ru', 'ko', 'ru', 'pa', 'to', 'ko', 'ru', 'ko', 'ru', 'to', 'ko', 'ru', 'ko', 'ru', 'ko', 'ru', 'vi', 'ra', 'ko', 'ru', 'pi', 'ko', 'ru', 'pi', 'vi', 'ra', 'ko', 'si', 'ko', 'si', 'ko', 'si', 'ko', 'si', 'ko', 'si', 'ko', 'si', 'pa', 'ko', 'si', 'pa', 'to', 'ko', 'si', 'pi', 'ko', 'si', 'va', 'ko', 'si', 'vi', 'ro', 'ko', 'to', 'ko', 'to', 'ko', 'to', 'ko', 'to', 'ko', 'to', 'ra', 'ko', 'to', 'pa', 'ko', 'to', 'pa', 'ko', 'to', 'vi', 'ra', 'ko', 'tu', 'ko', 'tu', 'ko', 'tu', 'ko', 'tu', 'pi', 'ko', 'tu', 'ru', 'ko', 'ko', 'ko', 'ko', 'ko', 'ko', 'ko', 'ko', 'ko', 'ko', 'ko', 'ko', 'va', 'ko', 'va', 'ro', 'ko', 'va', 'to', 'ko', 'va', 'ko', 'va', 'ko', 'va', 'ra', 'ko', 'va', 'pa', 'to', 'ko', 'va', 'ra', 'to', 'ko', 'va', 'ru', 'ko', 'va', 'si', 'ko', 'va', 'ta', 'ko', 'va', 'ta', 'vi', 'ra', 'ko', 'va', 'to', 'ko', 'va', 'ke', 'va', 'va', 'ko', 've', 'ko', 've', 'ko', 've', 'ko', 've', 'ko', 've', 'ko', 've', 'pa', 'ko', 've', 'va', 'vi', 'ko', 'vi', 'ko', 'ro', 'ko', 'vi', 're', 'ko', 'vi', 're', 'ko', 'vo', 'ko', 'vo', 'ko', 'vo', 'ko', 'vo', 'ko', 'vo', 'ko', 'vo', 'ko', 'vo', 'ko', 'vo', 'ko', 'vo', 'ko', 'vo', 'ko', 'vo', 'ko', 'vo', 'ko', 'vo', 'pa', 'ko', 'vo', 'pa', 'to', 'ko', 'vo', 'pi', 'ko', 'vo', 'ru', 'ko', 'ko', 'vo', 'to', 'ko', 'vo', 'vo', 'ko', 'vu', 'ka', 'ko', 'vu', 'ro', 'ko', 'vu', 'ko', 'vu', 'ko', 'vu', 'ko', 'vu', 'to', 'ko', 'vu', 'ko', 'vu', 'vi', 'ra', 'ko', 'vu', 'ru', 'ko', 'vu', 'ru', 'ko', 'vu', 'ru', 'ko', 'ko', 'vu', 'ru', 'ko', 'vi', 'ra', 'ko', 'vu', 'ru', 'vi', 'ra', 'ko', 'vu', 'to', 'ku', 'ra', 'ku', 'ku', 'ku', 'ku', 'ku', 'ku', 'ku', 'pe', 'si', 'ku', 'pe', 'tu', 'ku', 'to', 'ku', 'ka', 'ku', 'ka', 'ra', 'ku', 'ka', 'vi', 'ro', 'ku', 'ki', 'ki', 'ku', 'ki', 'ki', 'ku', 'ku', 'ku', 'ku', 'ku', 'ku', 'ku', 'ku', 'ku', 'ku', 'pu', 'te', 'ku', 'ku', 'pa', 'ku', 'ku', 'ku', 'ku', 'ku', 'pi', 'ra', 'ku', 'ku', 'ri', 'ko', 'ku', 'ku', 'ri', 'ko', 'to', 'ku', 'ku', 'si', 'ri', 'ku', 'ku', 'ta', 'vu', 'ku', 'ku', 'tu', 'ku', 'ku', 'ku', 'ku', 'ku', 'ku', 'ku', 'ku', 'ku', 'pi', 'ku', 'ku', 'vu', 'ku', 'ku', 'va', 'ku', 'ku', 'va', 'pa', 'ku', 'ku', 'vi', 'ta', 'ku', 'ku', 'vu', 'ku', 'ku', 'pa', 're', 'ku', 'pa', 're', 'to', 'ku', 'pe', 'ku', 'pe', 'ku', 'pe', 'ku', 'pe', 'pa', 'ku', 'pe', 'ro', 'ku', 'pe', 'ro', 'ku', 'pe', 'ro', 'vi', 'ra', 'ku', 'pi', 'ku', 'pu', 'ku', 'pu', 'ku', 'ra', 'ku', 'ra', 'si', 'ku', 'ra', 'si', 'ku', 're', 'ku', 'ri', 'ku', 'ri', 'to', 'ku', 'ri', 'ka', 'ka', 'ku', 'to', 'ku', 'ri', 'ka', 'si', 'ku', 'ri', 'ka', 'si', 'vi', 'ra', 'ku', 'ri', 'ko', 'ko', 'ku', 'ri', 'ku', 'ri', 'ku', 'ri', 'pa', 'ku', 'ri', 'ta', 'va', 'ku', 'ro', 'ku', 'ro', 'ku', 'ro', 'ku', 'ro', 'ku', 'ro', 'ku', 'ro', 'to', 'ku', 'ro', 'ku', 'ro', 'ro', 'ku', 'ro', 'vi', 'ra', 'ku', 'ru', 'ku', 'ru', 'ku', 'ru', 'pi', 'ku', 'ru', 'ra', 'ku', 'ru', 'ru', 'ku', 'ru', 'tu', 'si', 'ku', 'si', 'ku', 'si', 'ke', 'ku', 'si', 'to', 'ku', 'ku', 'ku', 'ku', 'vu', 'ku', 'ku', 'vu', 'to', 'ku', 'ku', 'pi', 'ku', 're', 'ku', 'ri', 'ku', 'va', 'ku', 'va', 'ki', 'ku', 'va', 'ki', 'to', 'ku', 'va', 'to', 'ku', 'va', 'vi', 'ra', 'ku', 'vu', 'ku', 'vu', 'vi', 'ra', 'ku', 'va', 'ku', 'va', 'ku', 'ku', 'va', 'to', 'ku', 'va', 'ku', 'va', 'pi', 'ku', 'va', 'vi', 'ra', 'ku', 've', 'ra', 'ku', 've', 'ra', 'va', 'ku', 've', 're', 'ku', 've', 're', 'ku', 've', 're', 'to', 'ku', 've', 're', 'vi', 'ra', 'ku', 'vo', 'ro', 'ku', 'vu', 'ku', 'vu', 'ra', 'ku', 'vu', 'ku', 'vu', 'ku', 'vu', 'ku', 'vu', 'ku', 'vu', 'pa', 'to', 'ku', 'vu', 'to']\n"
     ]
    }
   ],
   "source": [
    "cvs = [cv for w in rotokas_words for cv in re.findall('[ptksvr][aeiou]', w)]\n",
    "print(cvs)"
   ]
  },
  {
   "cell_type": "markdown",
   "metadata": {},
   "source": [
    "* conditionalFreqDist : 요소가 두개 짜리여야 함."
   ]
  },
  {
   "cell_type": "code",
   "execution_count": 33,
   "metadata": {},
   "outputs": [
    {
     "name": "stdout",
     "output_type": "stream",
     "text": [
      "    a   e   i   o   u \n",
      "k 418 148  94 420 173 \n",
      "p  83  31 105  34  51 \n",
      "r 187  63  84  89  79 \n",
      "s   0   0 100   2   1 \n",
      "t  47   8   0 148  37 \n",
      "v  93  27 105  48  49 \n"
     ]
    }
   ],
   "source": [
    "cfd = nltk.ConditionalFreqDist(cvs) # CFD works pairwise only\n",
    "cfd.tabulate()"
   ]
  },
  {
   "cell_type": "markdown",
   "metadata": {},
   "source": [
    "-------------------------------------------------------------------------------------"
   ]
  },
  {
   "cell_type": "markdown",
   "metadata": {},
   "source": [
    "## Practice"
   ]
  },
  {
   "cell_type": "code",
   "execution_count": 19,
   "metadata": {},
   "outputs": [
    {
     "name": "stdout",
     "output_type": "stream",
     "text": [
      "['a', 'aa', 'aal', 'aalii', 'aam', 'aardvark', 'aardwolf', 'aba', 'abac', 'abaca', 'abacate', 'abacay', 'abacinate', 'abacination', 'abaciscus']\n"
     ]
    }
   ],
   "source": [
    "dic = [w for w in nltk.corpus.words.words('en') if w.islower()]\n",
    "print(dic[:15])"
   ]
  },
  {
   "cell_type": "code",
   "execution_count": 20,
   "metadata": {},
   "outputs": [
    {
     "name": "stdout",
     "output_type": "stream",
     "text": [
      "['abhorring', 'abiding', 'abounding', 'absorbing', 'abutting', 'accommodating', 'according', 'accounting', 'aching', 'acting', 'adeling', 'adjoining', 'admiring', 'adsmithing', 'advancing']\n"
     ]
    }
   ],
   "source": [
    "result = [w for w in dic if re.search('ing$',w)]\n",
    "print(result[:15])"
   ]
  },
  {
   "cell_type": "code",
   "execution_count": 23,
   "metadata": {},
   "outputs": [
    {
     "name": "stdout",
     "output_type": "stream",
     "text": [
      "['abaction', 'ablation', 'ablution', 'abortion', 'acuation', 'adaption', 'addition', 'adiation', 'adnation', 'adoption', 'adustion', 'aeration', 'agnation', 'ambition', 'ansation']\n"
     ]
    }
   ],
   "source": [
    "result = [w for w in dic if re.search('^[abc]...tion$',w)]\n",
    "print(result[:15])"
   ]
  },
  {
   "cell_type": "code",
   "execution_count": 24,
   "metadata": {},
   "outputs": [
    {
     "name": "stdout",
     "output_type": "stream",
     "text": [
      "['a', 'aa', 'aal', 'aalii', 'aam', 'aardvark', 'aardwolf', 'aba', 'abac', 'abaca', 'abacate', 'abacay', 'abacinate', 'abacination', 'abaciscus']\n"
     ]
    }
   ],
   "source": [
    "result = [w for w in dic if re.search('^[acf]+',w)]\n",
    "print(result[:15])"
   ]
  },
  {
   "cell_type": "code",
   "execution_count": 25,
   "metadata": {},
   "outputs": [],
   "source": [
    "wsj = sorted(set(nltk.corpus.treebank.words()))"
   ]
  },
  {
   "cell_type": "code",
   "execution_count": 27,
   "metadata": {},
   "outputs": [
    {
     "name": "stdout",
     "output_type": "stream",
     "text": [
      "['10th', '11th', '1920s', '1940s', '1950s', '1960s', '1970s', '1980s', '1990s', '1st', '20s', '29year', '30s', '8300s']\n"
     ]
    }
   ],
   "source": [
    "result = [w for w in wsj if re.search('^[0-9]+[a-z]+', w)]\n",
    "print(result[:15])"
   ]
  },
  {
   "cell_type": "code",
   "execution_count": 33,
   "metadata": {},
   "outputs": [
    {
     "name": "stdout",
     "output_type": "stream",
     "text": [
      "['ABA', 'AIDS', 'AMR', 'AND', 'BILLS', 'BIRDS', 'BMP', 'BTR', 'CALL', 'CAT', 'CBS', 'CDC', 'CEO', 'CIA', 'CORP']\n"
     ]
    }
   ],
   "source": [
    "result = [w for w in wsj if re.search('^[A-Z]{3,5}$',w)]\n",
    "print(result[:15])"
   ]
  },
  {
   "cell_type": "code",
   "execution_count": 34,
   "metadata": {},
   "outputs": [
    {
     "name": "stdout",
     "output_type": "stream",
     "text": [
      "['da', 'ea', 'ab', 'be', 'ea', 'da', 'ea', 'ea', 'ea', 'ea']\n"
     ]
    }
   ],
   "source": [
    "s = [vs for word in wsj for vs in re.findall(r'[abcde]{2,}', word)]\n",
    "print(s[:10])"
   ]
  },
  {
   "cell_type": "code",
   "execution_count": 36,
   "metadata": {},
   "outputs": [
    {
     "name": "stdout",
     "output_type": "stream",
     "text": [
      "[('ed', 996), ('de', 417), ('ea', 387), ('ca', 308), ('ce', 288)]\n"
     ]
    }
   ],
   "source": [
    "fdist = nltk.FreqDist(vs for word in wsj for vs in re.findall(r'[abcde]{2,}',word))\n",
    "c = fdist.most_common(5)\n",
    "print(c)"
   ]
  },
  {
   "cell_type": "code",
   "execution_count": 5,
   "metadata": {},
   "outputs": [
    {
     "name": "stdout",
     "output_type": "stream",
     "text": [
      "['e', 'c', 'a', 'a', 'c', 'e', 'a', 'd', 'c']\n",
      "['upercalifragilisticexpialidocious']\n",
      "['up', 'er', 'ali', 'agi', 'ist', 'exp', 'ial', 'ido', 'iou']\n"
     ]
    }
   ],
   "source": [
    "word = 'supercalifragilisticexpialidocious'\n",
    "result = re.findall('[abcde]',word)\n",
    "print(result)\n",
    "result = re.findall('[aeiou].+[^abcde]',word)\n",
    "print(result)\n",
    "result = re.findall('[aeiou].?[^abcde]',word)\n",
    "print(result)"
   ]
  },
  {
   "cell_type": "code",
   "execution_count": 6,
   "metadata": {},
   "outputs": [],
   "source": [
    "wsj = sorted(set(nltk.corpus.treebank.words()))"
   ]
  },
  {
   "cell_type": "code",
   "execution_count": 7,
   "metadata": {},
   "outputs": [
    {
     "data": {
      "text/plain": [
       "[('ica', 108),\n",
       " ('ide', 76),\n",
       " ('ice', 48),\n",
       " ('ood', 43),\n",
       " ('cou', 43),\n",
       " ('ici', 41),\n",
       " ('ded', 38),\n",
       " ('ecu', 37),\n",
       " ('ied', 35),\n",
       " ('eco', 34)]"
      ]
     },
     "execution_count": 7,
     "metadata": {},
     "output_type": "execute_result"
    }
   ],
   "source": [
    "fdist = nltk.FreqDist(vs for word in wsj for vs in re.findall('[aeiouabcde]{3,}', word))\n",
    "fdist.most_common(10)"
   ]
  },
  {
   "cell_type": "code",
   "execution_count": 8,
   "metadata": {},
   "outputs": [
    {
     "name": "stdout",
     "output_type": "stream",
     "text": [
      "['Universal', 'Declaration', 'of', 'Human', 'Rights', ...]\n"
     ]
    }
   ],
   "source": [
    "english_udhr = nltk.corpus.udhr.words('English-Latin1')\n",
    "print(english_udhr)"
   ]
  },
  {
   "cell_type": "code",
   "execution_count": 11,
   "metadata": {},
   "outputs": [
    {
     "data": {
      "text/plain": [
       "['',\n",
       " '',\n",
       " '',\n",
       " '',\n",
       " 's',\n",
       " '',\n",
       " 's',\n",
       " '',\n",
       " '',\n",
       " '',\n",
       " '',\n",
       " '',\n",
       " '',\n",
       " '',\n",
       " '',\n",
       " '',\n",
       " '',\n",
       " '',\n",
       " 's',\n",
       " '',\n",
       " '',\n",
       " 's',\n",
       " '',\n",
       " '',\n",
       " '',\n",
       " '',\n",
       " 's',\n",
       " '',\n",
       " '',\n",
       " '',\n",
       " '',\n",
       " '',\n",
       " '',\n",
       " '',\n",
       " '',\n",
       " '',\n",
       " '',\n",
       " '',\n",
       " '',\n",
       " 's',\n",
       " '',\n",
       " '',\n",
       " '',\n",
       " '',\n",
       " '',\n",
       " 's',\n",
       " '',\n",
       " 'ed',\n",
       " '',\n",
       " 's',\n",
       " 's',\n",
       " '',\n",
       " '',\n",
       " 'ed',\n",
       " '',\n",
       " '',\n",
       " '',\n",
       " '',\n",
       " '',\n",
       " '',\n",
       " '',\n",
       " '',\n",
       " '',\n",
       " '',\n",
       " '',\n",
       " '',\n",
       " '',\n",
       " '',\n",
       " 's',\n",
       " '',\n",
       " '',\n",
       " '',\n",
       " '',\n",
       " '',\n",
       " '']"
      ]
     },
     "execution_count": 11,
     "metadata": {},
     "output_type": "execute_result"
    }
   ],
   "source": [
    "pinf = '[s]$|[ed]{2}$'\n",
    "def inflect(word):\n",
    "    pieces = re.findall(pinf, word)\n",
    "    return ''.join(pieces)   \n",
    "[inflect(w) for w in english_udhr[:75]]"
   ]
  },
  {
   "cell_type": "code",
   "execution_count": 12,
   "metadata": {},
   "outputs": [],
   "source": [
    "rotokas_words = nltk.corpus.toolbox.words('rotokas.dic')"
   ]
  },
  {
   "cell_type": "code",
   "execution_count": 22,
   "metadata": {},
   "outputs": [
    {
     "name": "stdout",
     "output_type": "stream",
     "text": [
      "['ga', 'me', 'do', 'gi', 'gu', 'li', 'go', 'go', 'go', 'bo', 'go', 'ga']\n"
     ]
    }
   ],
   "source": [
    "cvs = [cv for w in rotokas_words for cv in re.findall('[bcdfghjlm][aeiou]', w)]\n",
    "print(cvs)"
   ]
  },
  {
   "cell_type": "code",
   "execution_count": 23,
   "metadata": {},
   "outputs": [
    {
     "name": "stdout",
     "output_type": "stream",
     "text": [
      "  a e i o u \n",
      "b 0 0 0 1 0 \n",
      "d 0 0 0 1 0 \n",
      "g 2 0 1 4 1 \n",
      "l 0 0 1 0 0 \n",
      "m 0 1 0 0 0 \n"
     ]
    }
   ],
   "source": [
    "cfd = nltk.ConditionalFreqDist(cvs)\n",
    "cfd.tabulate()"
   ]
  }
 ],
 "metadata": {
  "kernelspec": {
   "display_name": "Python 3",
   "language": "python",
   "name": "python3"
  },
  "language_info": {
   "codemirror_mode": {
    "name": "ipython",
    "version": 3
   },
   "file_extension": ".py",
   "mimetype": "text/x-python",
   "name": "python",
   "nbconvert_exporter": "python",
   "pygments_lexer": "ipython3",
   "version": "3.7.1"
  }
 },
 "nbformat": 4,
 "nbformat_minor": 1
}
